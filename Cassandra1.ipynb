{
  "nbformat": 4,
  "nbformat_minor": 0,
  "metadata": {
    "colab": {
      "provenance": []
    },
    "kernelspec": {
      "name": "python3",
      "display_name": "Python 3"
    },
    "language_info": {
      "name": "python"
    }
  },
  "cells": [
    {
      "cell_type": "code",
      "execution_count": 1,
      "metadata": {
        "colab": {
          "base_uri": "https://localhost:8080/"
        },
        "id": "E12XEBTpQOTl",
        "outputId": "21c92075-7c3f-4d41-a49e-9b75fb34a897"
      },
      "outputs": [
        {
          "output_type": "stream",
          "name": "stdout",
          "text": [
            "Requirement already satisfied: pandas in /usr/local/lib/python3.10/dist-packages (2.2.2)\n",
            "Collecting cassandra-driver\n",
            "  Downloading cassandra_driver-3.29.2-cp310-cp310-manylinux_2_17_x86_64.manylinux2014_x86_64.whl.metadata (6.2 kB)\n",
            "Requirement already satisfied: numpy>=1.22.4 in /usr/local/lib/python3.10/dist-packages (from pandas) (1.26.4)\n",
            "Requirement already satisfied: python-dateutil>=2.8.2 in /usr/local/lib/python3.10/dist-packages (from pandas) (2.8.2)\n",
            "Requirement already satisfied: pytz>=2020.1 in /usr/local/lib/python3.10/dist-packages (from pandas) (2024.2)\n",
            "Requirement already satisfied: tzdata>=2022.7 in /usr/local/lib/python3.10/dist-packages (from pandas) (2024.2)\n",
            "Collecting geomet<0.3,>=0.1 (from cassandra-driver)\n",
            "  Downloading geomet-0.2.1.post1-py3-none-any.whl.metadata (1.0 kB)\n",
            "Requirement already satisfied: click in /usr/local/lib/python3.10/dist-packages (from geomet<0.3,>=0.1->cassandra-driver) (8.1.7)\n",
            "Requirement already satisfied: six in /usr/local/lib/python3.10/dist-packages (from geomet<0.3,>=0.1->cassandra-driver) (1.16.0)\n",
            "Downloading cassandra_driver-3.29.2-cp310-cp310-manylinux_2_17_x86_64.manylinux2014_x86_64.whl (3.9 MB)\n",
            "\u001b[2K   \u001b[90m━━━━━━━━━━━━━━━━━━━━━━━━━━━━━━━━━━━━━━━━\u001b[0m \u001b[32m3.9/3.9 MB\u001b[0m \u001b[31m27.4 MB/s\u001b[0m eta \u001b[36m0:00:00\u001b[0m\n",
            "\u001b[?25hDownloading geomet-0.2.1.post1-py3-none-any.whl (18 kB)\n",
            "Installing collected packages: geomet, cassandra-driver\n",
            "Successfully installed cassandra-driver-3.29.2 geomet-0.2.1.post1\n",
            "Sample data:\n",
            "                         Region           Country  Item Type Sales Channel  \\\n",
            "0            Sub-Saharan Africa      South Africa     Fruits       Offline   \n",
            "1  Middle East and North Africa           Morocco    Clothes        Online   \n",
            "2         Australia and Oceania  Papua New Guinea       Meat       Offline   \n",
            "3            Sub-Saharan Africa          Djibouti    Clothes       Offline   \n",
            "4                        Europe          Slovakia  Beverages       Offline   \n",
            "\n",
            "  Order Priority  Order Date   Order ID   Ship Date  UnitsSold  UnitPrice  \\\n",
            "0              M   7/27/2012  443368995   7/28/2012       1593       9.33   \n",
            "1              M   9/14/2013  667593514  10/19/2013       4611     109.28   \n",
            "2              M   5/15/2015  940995585    6/4/2015        360     421.89   \n",
            "3              H   5/17/2017  880811536    7/2/2017        562     109.28   \n",
            "4              L  10/26/2016  174590194   12/4/2016       3973      47.45   \n",
            "\n",
            "   UnitCost  TotalRevenue  TotalCost  TotalProfit  \n",
            "0      6.92      14862.69   11023.56      3839.13  \n",
            "1     35.84     503890.08  165258.24    338631.84  \n",
            "2    364.69     151880.40  131288.40     20592.00  \n",
            "3     35.84      61415.36   20142.08     41273.28  \n",
            "4     31.79     188518.85  126301.67     62217.18  \n",
            "Data saved locally as 'sales_100.csv'\n"
          ]
        }
      ],
      "source": [
        "# Step 1: Install required libraries\n",
        "!pip install pandas cassandra-driver\n",
        "\n",
        "# Step 2: Load the CSV file\n",
        "import pandas as pd\n",
        "\n",
        "# Download the CSV file from GitHub\n",
        "csv_url = \"https://raw.githubusercontent.com/gchandra10/filestorage/main/sales_100.csv\"\n",
        "data = pd.read_csv(csv_url)\n",
        "\n",
        "# Display the first few rows\n",
        "print(\"Sample data:\")\n",
        "print(data.head())\n",
        "\n",
        "# Save to a local file for reference\n",
        "data.to_csv('sales_100.csv', index=False)\n",
        "print(\"Data saved locally as 'sales_100.csv'\")\n"
      ]
    },
    {
      "cell_type": "code",
      "source": [
        "from cassandra.cluster import Cluster\n",
        "from cassandra.auth import PlainTextAuthProvider\n",
        "import json"
      ],
      "metadata": {
        "id": "LxjOlJ9kSENX"
      },
      "execution_count": 3,
      "outputs": []
    },
    {
      "cell_type": "code",
      "source": [
        "from cassandra.cluster import Cluster\n",
        "from cassandra.auth import PlainTextAuthProvider\n",
        "import pandas as pd\n",
        "import json\n",
        "\n",
        "cloud_config= {\n",
        "        'secure_connect_bundle': 'secure-connect-assignment1.zip'\n",
        "}\n",
        "\n",
        "# Load credentials\n",
        "with open(\"Assignment1-token.json\") as f:\n",
        "    secrets = json.load(f)\n",
        "CLIENT_ID = secrets[\"clientId\"]\n",
        "CLIENT_SECRET = secrets[\"secret\"]\n",
        "\n",
        "auth_provider = PlainTextAuthProvider(CLIENT_ID, CLIENT_SECRET)\n",
        "cluster = Cluster(cloud=cloud_config, auth_provider=auth_provider)\n",
        "session = cluster.connect()\n",
        "\n",
        "row = session.execute(\"select release_version from system.local\").one()\n",
        "if session:\n",
        "  print(\"active\")\n",
        "else:\n",
        "  print(\"An error occurred.\")"
      ],
      "metadata": {
        "colab": {
          "base_uri": "https://localhost:8080/"
        },
        "id": "HDU2oedlSxHT",
        "outputId": "c6aacf98-d9c6-4383-8053-cfb5619180f5"
      },
      "execution_count": 15,
      "outputs": [
        {
          "output_type": "stream",
          "name": "stderr",
          "text": [
            "WARNING:cassandra.cluster:Downgrading core protocol version from 66 to 65 for d637778e-232f-4e2d-bff7-25d9e77b28ca-eu-west-1.db.astra.datastax.com:29042:b4f6d9ed-0f1d-3f7a-82f1-a4a7ea4f84d4. To avoid this, it is best practice to explicitly set Cluster(protocol_version) to the version supported by your cluster. http://datastax.github.io/python-driver/api/cassandra/cluster.html#cassandra.cluster.Cluster.protocol_version\n",
            "WARNING:cassandra.cluster:Downgrading core protocol version from 65 to 5 for d637778e-232f-4e2d-bff7-25d9e77b28ca-eu-west-1.db.astra.datastax.com:29042:b4f6d9ed-0f1d-3f7a-82f1-a4a7ea4f84d4. To avoid this, it is best practice to explicitly set Cluster(protocol_version) to the version supported by your cluster. http://datastax.github.io/python-driver/api/cassandra/cluster.html#cassandra.cluster.Cluster.protocol_version\n",
            "WARNING:cassandra.cluster:Downgrading core protocol version from 5 to 4 for d637778e-232f-4e2d-bff7-25d9e77b28ca-eu-west-1.db.astra.datastax.com:29042:b4f6d9ed-0f1d-3f7a-82f1-a4a7ea4f84d4. To avoid this, it is best practice to explicitly set Cluster(protocol_version) to the version supported by your cluster. http://datastax.github.io/python-driver/api/cassandra/cluster.html#cassandra.cluster.Cluster.protocol_version\n"
          ]
        },
        {
          "output_type": "stream",
          "name": "stdout",
          "text": [
            "active\n"
          ]
        }
      ]
    },
    {
      "cell_type": "code",
      "source": [
        "create_table_query = \"\"\"\n",
        "CREATE TABLE learning.bronze_data (\n",
        "    Region TEXT,\n",
        "    Country TEXT,\n",
        "    Item_Type TEXT,\n",
        "    Sales_Channel TEXT,\n",
        "    Order_Priority TEXT,\n",
        "    Order_Date TEXT,\n",
        "    Order_ID BIGINT PRIMARY KEY,\n",
        "    Ship_Date TEXT,\n",
        "    Units_Sold INT,\n",
        "    Unit_Price FLOAT,\n",
        "    Unit_Cost FLOAT,\n",
        "    Total_Revenue FLOAT,\n",
        "    Total_Cost FLOAT,\n",
        "    Total_Profit FLOAT\n",
        ");\n",
        "\"\"\"\n",
        "session.execute(create_table_query)\n",
        "print(\"Table created successfully!\")"
      ],
      "metadata": {
        "colab": {
          "base_uri": "https://localhost:8080/",
          "height": 252
        },
        "id": "KERgs9dmk8uh",
        "outputId": "082ac27a-b7fd-4e8a-ac7a-64d8dd7a2f93"
      },
      "execution_count": 38,
      "outputs": [
        {
          "output_type": "error",
          "ename": "AlreadyExists",
          "evalue": "Table 'learning.bronze_data' already exists",
          "traceback": [
            "\u001b[0;31m---------------------------------------------------------------------------\u001b[0m",
            "\u001b[0;31mAlreadyExists\u001b[0m                             Traceback (most recent call last)",
            "\u001b[0;32m<ipython-input-38-7b5c1e5aec2f>\u001b[0m in \u001b[0;36m<cell line: 19>\u001b[0;34m()\u001b[0m\n\u001b[1;32m     17\u001b[0m );\n\u001b[1;32m     18\u001b[0m \"\"\"\n\u001b[0;32m---> 19\u001b[0;31m \u001b[0msession\u001b[0m\u001b[0;34m.\u001b[0m\u001b[0mexecute\u001b[0m\u001b[0;34m(\u001b[0m\u001b[0mcreate_table_query\u001b[0m\u001b[0;34m)\u001b[0m\u001b[0;34m\u001b[0m\u001b[0;34m\u001b[0m\u001b[0m\n\u001b[0m\u001b[1;32m     20\u001b[0m \u001b[0mprint\u001b[0m\u001b[0;34m(\u001b[0m\u001b[0;34m\"Table created successfully!\"\u001b[0m\u001b[0;34m)\u001b[0m\u001b[0;34m\u001b[0m\u001b[0;34m\u001b[0m\u001b[0m\n",
            "\u001b[0;32m/usr/local/lib/python3.10/dist-packages/cassandra/cluster.cpython-310-x86_64-linux-gnu.so\u001b[0m in \u001b[0;36mcassandra.cluster.Session.execute\u001b[0;34m()\u001b[0m\n",
            "\u001b[0;32m/usr/local/lib/python3.10/dist-packages/cassandra/cluster.cpython-310-x86_64-linux-gnu.so\u001b[0m in \u001b[0;36mcassandra.cluster.ResponseFuture.result\u001b[0;34m()\u001b[0m\n",
            "\u001b[0;31mAlreadyExists\u001b[0m: Table 'learning.bronze_data' already exists"
          ]
        }
      ]
    },
    {
      "cell_type": "code",
      "source": [
        "query = \"SELECT * FROM learning.bronze_data ;\"\n",
        "rows = session.execute(query)\n",
        "\n",
        "for row in rows:\n",
        "    print(row)"
      ],
      "metadata": {
        "colab": {
          "base_uri": "https://localhost:8080/"
        },
        "id": "Yw_s0G8jobLS",
        "outputId": "0dec7da1-9644-48d5-b446-07927cc40acf"
      },
      "execution_count": 21,
      "outputs": [
        {
          "output_type": "stream",
          "name": "stdout",
          "text": [
            "Row(order_id=294530856, country='Italy', item_type='Cereal', order_date='11/15/2011', order_priority='M', region='Europe', sales_channel='Online', ship_date='12/28/2011', total_cost=829138.8125, total_profit=627217.1875, total_revenue=1456356.0, unit_cost=117.11000061035156, unit_price=205.6999969482422, units_sold=7080)\n",
            "Row(order_id=274930989, country='Dominica', item_type='Household', order_date='11/19/2011', order_priority='C', region='Central America and the Caribbean', sales_channel='Offline', ship_date='12/13/2011', total_cost=3539891.75, total_profit=1167402.125, total_revenue=4707294.0, unit_cost=502.5400085449219, unit_price=668.27001953125, units_sold=7044)\n",
            "Row(order_id=498071897, country='Taiwan', item_type='Cereal', order_date='4/11/2010', order_priority='H', region='Asia', sales_channel='Online', ship_date='5/26/2010', total_cost=1100482.625, total_profit=832480.25, total_revenue=1932962.875, unit_cost=117.11000061035156, unit_price=205.6999969482422, units_sold=9397)\n",
            "Row(order_id=940980136, country='New Zealand', item_type='Beverages', order_date='10/11/2012', order_priority='M', region='Australia and Oceania', sales_channel='Online', ship_date='11/4/2012', total_cost=184000.515625, total_profit=90640.078125, total_revenue=274640.59375, unit_cost=31.790000915527344, unit_price=47.45000076293945, units_sold=5788)\n",
            "Row(order_id=324669444, country='France', item_type='Cosmetics', order_date='12/7/2015', order_priority='M', region='Europe', sales_channel='Online', ship_date='1/18/2016', total_cost=1516254.125, total_profit=1001143.4375, total_revenue=2517397.5, unit_cost=263.3299865722656, unit_price=437.20001220703125, units_sold=5758)\n",
            "Row(order_id=830410039, country='Switzerland', item_type='Office Supplies', order_date='7/29/2014', order_priority='C', region='Europe', sales_channel='Offline', ship_date='8/27/2014', total_cost=2960249.5, total_profit=711923.75, total_revenue=3672173.25, unit_cost=524.9600219726562, unit_price=651.2100219726562, units_sold=5639)\n",
            "Row(order_id=953361213, country='Zimbabwe', item_type='Office Supplies', order_date='3/28/2011', order_priority='C', region='Sub-Saharan Africa', sales_channel='Offline', ship_date='4/8/2011', total_cost=5051690.0, total_profit=1214903.75, total_revenue=6266594.0, unit_cost=524.9600219726562, unit_price=651.2100219726562, units_sold=9623)\n",
            "Row(order_id=425418365, country='United Arab Emirates', item_type='Office Supplies', order_date='6/23/2012', order_priority='M', region='Middle East and North Africa', sales_channel='Online', ship_date='7/6/2012', total_cost=5041191.0, total_profit=1212378.75, total_revenue=6253569.5, unit_cost=524.9600219726562, unit_price=651.2100219726562, units_sold=9603)\n",
            "Row(order_id=349235904, country='Mauritius ', item_type='Clothes', order_date='11/17/2012', order_priority='M', region='Sub-Saharan Africa', sales_channel='Offline', ship_date='12/2/2012', total_cost=197836.796875, total_profit=405388.8125, total_revenue=603225.625, unit_cost=35.84000015258789, unit_price=109.27999877929688, units_sold=5520)\n",
            "Row(order_id=246248090, country='The Bahamas', item_type='Personal Care', order_date='1/19/2011', order_priority='C', region='Central America and the Caribbean', sales_channel='Online', ship_date='2/21/2011', total_cost=517793.78125, total_profit=228973.21875, total_revenue=746767.0, unit_cost=56.66999816894531, unit_price=81.7300033569336, units_sold=9137)\n",
            "Row(order_id=368977391, country='Canada', item_type='Cosmetics', order_date='5/9/2011', order_priority='H', region='North America', sales_channel='Online', ship_date='6/2/2011', total_cost=1965495.125, total_profit=1297765.625, total_revenue=3263260.75, unit_cost=263.3299865722656, unit_price=437.20001220703125, units_sold=7464)\n",
            "Row(order_id=572335612, country='Vanuatu', item_type='Cereal', order_date='6/20/2014', order_priority='C', region='Australia and Oceania', sales_channel='Offline', ship_date='8/5/2014', total_cost=665301.9375, total_profit=503279.78125, total_revenue=1168581.75, unit_cost=117.11000061035156, unit_price=205.6999969482422, units_sold=5681)\n",
            "Row(order_id=443368995, country='South Africa', item_type='Fruits', order_date='7/27/2012', order_priority='M', region='Sub-Saharan Africa', sales_channel='Offline', ship_date='7/28/2012', total_cost=11023.5595703125, total_profit=3839.1298828125, total_revenue=14862.6904296875, unit_cost=6.920000076293945, unit_price=9.329999923706055, units_sold=1593)\n",
            "Row(order_id=156295812, country='East Timor', item_type='Cereal', order_date='12/7/2015', order_priority='M', region='Australia and Oceania', sales_channel='Offline', ship_date='12/30/2015', total_cost=30331.490234375, total_profit=22944.810546875, total_revenue=53276.30078125, unit_cost=117.11000061035156, unit_price=205.6999969482422, units_sold=259)\n",
            "Row(order_id=807785928, country='Ethiopia', item_type='Cosmetics', order_date='7/7/2011', order_priority='M', region='Sub-Saharan Africa', sales_channel='Online', ship_date='7/25/2011', total_cost=174324.453125, total_profit=115101.9375, total_revenue=289426.40625, unit_cost=263.3299865722656, unit_price=437.20001220703125, units_sold=662)\n",
            "Row(order_id=678896129, country='Indonesia', item_type='Personal Care', order_date='10/22/2012', order_priority='L', region='Asia', sales_channel='Offline', ship_date='10/31/2012', total_cost=527371.0, total_profit=233208.359375, total_revenue=760579.375, unit_cost=56.66999816894531, unit_price=81.7300033569336, units_sold=9306)\n",
            "Row(order_id=520480573, country='Indonesia', item_type='Household', order_date='9/28/2011', order_priority='C', region='Asia', sales_channel='Online', ship_date='9/28/2011', total_cost=313082.40625, total_profit=103249.7890625, total_revenue=416332.21875, unit_cost=502.5400085449219, unit_price=668.27001953125, units_sold=623)\n",
            "Row(order_id=925136649, country='Serbia', item_type='Clothes', order_date='7/6/2016', order_priority='L', region='Europe', sales_channel='Offline', ship_date='7/13/2016', total_cost=263352.3125, total_profit=539637.125, total_revenue=802989.4375, unit_cost=35.84000015258789, unit_price=109.27999877929688, units_sold=7348)\n",
            "Row(order_id=222504317, country='Belgium', item_type='Personal Care', order_date='11/1/2011', order_priority='H', region='Europe', sales_channel='Online', ship_date='11/20/2011', total_cost=160206.09375, total_profit=70844.6171875, total_revenue=231050.703125, unit_cost=56.66999816894531, unit_price=81.7300033569336, units_sold=2827)\n",
            "Row(order_id=563681733, country='Togo', item_type='Cosmetics', order_date='9/8/2015', order_priority='M', region='Sub-Saharan Africa', sales_channel='Online', ship_date='9/9/2015', total_cost=1265564.0, total_profit=835619.25, total_revenue=2101183.25, unit_cost=263.3299865722656, unit_price=437.20001220703125, units_sold=4806)\n",
            "Row(order_id=488121116, country='The Bahamas', item_type='Fruits', order_date='6/18/2010', order_priority='L', region='Central America and the Caribbean', sales_channel='Offline', ship_date='6/30/2010', total_cost=32800.80078125, total_profit=11423.400390625, total_revenue=44224.19921875, unit_cost=6.920000076293945, unit_price=9.329999923706055, units_sold=4740)\n",
            "Row(order_id=839094388, country='Tonga', item_type='Baby Food', order_date='5/11/2016', order_priority='L', region='Australia and Oceania', sales_channel='Online', ship_date='5/31/2016', total_cost=881752.0, total_profit=530201.6875, total_revenue=1411953.625, unit_cost=159.4199981689453, unit_price=255.27999877929688, units_sold=5531)\n",
            "Row(order_id=500371730, country='Pakistan', item_type='Meat', order_date='12/28/2013', order_priority='M', region='Middle East and North Africa', sales_channel='Online', ship_date='2/15/2014', total_cost=3635594.5, total_profit=570226.8125, total_revenue=4205821.5, unit_cost=364.69000244140625, unit_price=421.8900146484375, units_sold=9969)\n",
            "Row(order_id=845056617, country='Netherlands', item_type='Fruits', order_date='11/19/2016', order_priority='L', region='Europe', sales_channel='Online', ship_date='11/30/2016', total_cost=68418.0390625, total_profit=23827.669921875, total_revenue=92245.7109375, unit_cost=6.920000076293945, unit_price=9.329999923706055, units_sold=9887)\n",
            "Row(order_id=434008300, country='Thailand', item_type='Fruits', order_date='9/30/2012', order_priority='C', region='Asia', sales_channel='Offline', ship_date='11/14/2012', total_cost=10760.599609375, total_profit=3747.550048828125, total_revenue=14508.150390625, unit_cost=6.920000076293945, unit_price=9.329999923706055, units_sold=1555)\n",
            "Row(order_id=862861335, country='The Gambia', item_type='Fruits', order_date='11/20/2011', order_priority='C', region='Sub-Saharan Africa', sales_channel='Online', ship_date='11/22/2011', total_cost=60197.078125, total_profit=20964.58984375, total_revenue=81161.671875, unit_cost=6.920000076293945, unit_price=9.329999923706055, units_sold=8699)\n",
            "Row(order_id=756839835, country='Romania', item_type='Beverages', order_date='2/19/2012', order_priority='M', region='Europe', sales_channel='Online', ship_date='3/13/2012', total_cost=145629.984375, total_profit=71738.4609375, total_revenue=217368.453125, unit_cost=31.790000915527344, unit_price=47.45000076293945, units_sold=4581)\n",
            "Row(order_id=479969346, country='Tunisia ', item_type='Cosmetics', order_date='7/1/2012', order_priority='H', region='Middle East and North Africa', sales_channel='Offline', ship_date='7/20/2012', total_cost=645158.5, total_profit=425981.5, total_revenue=1071140.0, unit_cost=263.3299865722656, unit_price=437.20001220703125, units_sold=2450)\n",
            "Row(order_id=116205585, country='Turkmenistan', item_type='Vegetables', order_date='4/13/2015', order_priority='M', region='Asia', sales_channel='Online', ship_date='6/2/2015', total_cost=606503.125, total_profit=421077.09375, total_revenue=1027580.1875, unit_cost=90.93000030517578, unit_price=154.05999755859375, units_sold=6670)\n",
            "Row(order_id=496523940, country='Ghana', item_type='Fruits', order_date='5/29/2016', order_priority='M', region='Sub-Saharan Africa', sales_channel='Offline', ship_date='6/4/2016', total_cost=9155.16015625, total_profit=3188.429931640625, total_revenue=12343.58984375, unit_cost=6.920000076293945, unit_price=9.329999923706055, units_sold=1323)\n",
            "Row(order_id=710296428, country='Kazakhstan', item_type='Snacks', order_date='9/8/2013', order_priority='L', region='Asia', sales_channel='Online', ship_date='10/25/2013', total_cost=131738.875, total_profit=74549.28125, total_revenue=206288.15625, unit_cost=97.44000244140625, unit_price=152.5800018310547, units_sold=1352)\n",
            "Row(order_id=642134416, country='Finland', item_type='Vegetables', order_date='10/9/2012', order_priority='C', region='Europe', sales_channel='Offline', ship_date='11/27/2012', total_cost=63469.140625, total_profit=44064.73828125, total_revenue=107533.8828125, unit_cost=90.93000030517578, unit_price=154.05999755859375, units_sold=698)\n",
            "Row(order_id=573998582, country='Nicaragua', item_type='Household', order_date='10/28/2015', order_priority='C', region='Central America and the Caribbean', sales_channel='Online', ship_date='12/7/2015', total_cost=3915289.25, total_profit=1291202.375, total_revenue=5206491.5, unit_cost=502.5400085449219, unit_price=668.27001953125, units_sold=7791)\n",
            "Row(order_id=584356629, country='Democratic Republic of the Congo', item_type='Cosmetics', order_date='10/7/2012', order_priority='M', region='Sub-Saharan Africa', sales_channel='Online', ship_date='10/25/2012', total_cost=781300.125, total_profit=515872.28125, total_revenue=1297172.375, unit_cost=263.3299865722656, unit_price=437.20001220703125, units_sold=2967)\n",
            "Row(order_id=704205024, country='Lebanon', item_type='Meat', order_date='3/8/2017', order_priority='L', region='Middle East and North Africa', sales_channel='Online', ship_date='4/18/2017', total_cost=3198331.25, total_profit=501644.0, total_revenue=3699975.25, unit_cost=364.69000244140625, unit_price=421.8900146484375, units_sold=8770)\n",
            "Row(order_id=830192887, country='Sri Lanka', item_type='Fruits', order_date='11/7/2011', order_priority='L', region='Asia', sales_channel='Online', ship_date='12/18/2011', total_cost=9542.6796875, total_profit=3323.389892578125, total_revenue=12866.0703125, unit_cost=6.920000076293945, unit_price=9.329999923706055, units_sold=1379)\n",
            "Row(order_id=835696351, country='Estonia', item_type='Household', order_date='9/1/2011', order_priority='H', region='Europe', sales_channel='Offline', ship_date='10/21/2011', total_cost=5013339.0, total_profit=1653322.5, total_revenue=6666661.5, unit_cost=502.5400085449219, unit_price=668.27001953125, units_sold=9976)\n",
            "Row(order_id=731120240, country='Saint Lucia', item_type='Fruits', order_date='12/12/2015', order_priority='L', region='Central America and the Caribbean', sales_channel='Offline', ship_date='1/12/2016', total_cost=24780.51953125, total_profit=8630.2099609375, total_revenue=33410.73046875, unit_cost=6.920000076293945, unit_price=9.329999923706055, units_sold=3581)\n",
            "Row(order_id=371502530, country='Israel', item_type='Beverages', order_date='9/8/2013', order_priority='H', region='Middle East and North Africa', sales_channel='Offline', ship_date='10/13/2013', total_cost=149699.109375, total_profit=73742.9375, total_revenue=223442.046875, unit_cost=31.790000915527344, unit_price=47.45000076293945, units_sold=4709)\n",
            "Row(order_id=425793445, country='Seychelles ', item_type='Beverages', order_date='1/18/2013', order_priority='M', region='Sub-Saharan Africa', sales_channel='Online', ship_date='2/16/2013', total_cost=18978.630859375, total_profit=9349.01953125, total_revenue=28327.650390625, unit_cost=31.790000915527344, unit_price=47.45000076293945, units_sold=597)\n",
            "Row(order_id=937431466, country='Samoa ', item_type='Household', order_date='12/5/2016', order_priority='L', region='Australia and Oceania', sales_channel='Online', ship_date='12/8/2016', total_cost=2842868.75, total_profit=937534.625, total_revenue=3780403.5, unit_cost=502.5400085449219, unit_price=668.27001953125, units_sold=5657)\n",
            "Row(order_id=485070693, country='Haiti', item_type='Office Supplies', order_date='12/31/2010', order_priority='C', region='Central America and the Caribbean', sales_channel='Online', ship_date='1/31/2011', total_cost=1077217.875, total_profit=259065.0, total_revenue=1336282.875, unit_cost=524.9600219726562, unit_price=651.2100219726562, units_sold=2052)\n",
            "Row(order_id=757619178, country='Turkmenistan', item_type='Meat', order_date='4/30/2017', order_priority='M', region='Asia', sales_channel='Online', ship_date='5/14/2017', total_cost=1898576.125, total_profit=297783.1875, total_revenue=2196359.25, unit_cost=364.69000244140625, unit_price=421.8900146484375, units_sold=5206)\n",
            "Row(order_id=882908809, country='Egypt', item_type='Clothes', order_date='8/9/2016', order_priority='C', region='Middle East and North Africa', sales_channel='Online', ship_date='8/24/2016', total_cost=42721.28125, total_profit=87540.4765625, total_revenue=130261.7578125, unit_cost=35.84000015258789, unit_price=109.27999877929688, units_sold=1192)\n",
            "Row(order_id=146634709, country='Liberia', item_type='Baby Food', order_date='6/6/2015', order_priority='H', region='Sub-Saharan Africa', sales_channel='Offline', ship_date='6/12/2015', total_cost=211072.078125, total_profit=126918.640625, total_revenue=337990.71875, unit_cost=159.4199981689453, unit_price=255.27999877929688, units_sold=1324)\n",
            "Row(order_id=363086831, country='Mali', item_type='Household', order_date='8/19/2010', order_priority='M', region='Sub-Saharan Africa', sales_channel='Offline', ship_date='9/7/2010', total_cost=2169465.25, total_profit=715456.4375, total_revenue=2884921.5, unit_cost=502.5400085449219, unit_price=668.27001953125, units_sold=4317)\n",
            "Row(order_id=179137074, country='Nepal', item_type='Meat', order_date='2/21/2014', order_priority='H', region='Asia', sales_channel='Online', ship_date='3/14/2014', total_cost=3463096.25, total_profit=543171.1875, total_revenue=4006267.5, unit_cost=364.69000244140625, unit_price=421.8900146484375, units_sold=9496)\n",
            "Row(order_id=529276502, country='Burundi', item_type='Beverages', order_date='3/9/2011', order_priority='H', region='Sub-Saharan Africa', sales_channel='Online', ship_date='4/9/2011', total_cost=112314.0703125, total_profit=55326.78125, total_revenue=167640.84375, unit_cost=31.790000915527344, unit_price=47.45000076293945, units_sold=3533)\n",
            "Row(order_id=297876536, country='South Korea', item_type='Meat', order_date='3/16/2016', order_priority='L', region='Asia', sales_channel='Offline', ship_date='4/20/2016', total_cost=2604251.25, total_profit=408465.1875, total_revenue=3012716.5, unit_cost=364.69000244140625, unit_price=421.8900146484375, units_sold=7141)\n",
            "Row(order_id=459386289, country='Kuwait', item_type='Household', order_date='6/13/2011', order_priority='C', region='Middle East and North Africa', sales_channel='Offline', ship_date='7/21/2011', total_cost=736723.625, total_profit=242960.1875, total_revenue=979683.8125, unit_cost=502.5400085449219, unit_price=668.27001953125, units_sold=1466)\n",
            "Row(order_id=887124383, country='Greece', item_type='Cereal', order_date='8/22/2015', order_priority='H', region='Europe', sales_channel='Online', ship_date='10/8/2015', total_cost=1015812.125, total_profit=768429.6875, total_revenue=1784241.75, unit_cost=117.11000061035156, unit_price=205.6999969482422, units_sold=8674)\n",
            "Row(order_id=824714744, country='Dominican Republic', item_type='Baby Food', order_date='8/25/2011', order_priority='H', region='Central America and the Caribbean', sales_channel='Offline', ship_date='9/24/2011', total_cost=43681.078125, total_profit=26265.640625, total_revenue=69946.71875, unit_cost=159.4199981689453, unit_price=255.27999877929688, units_sold=274)\n",
            "Row(order_id=842238795, country='Uganda', item_type='Cosmetics', order_date='2/28/2015', order_priority='M', region='Sub-Saharan Africa', sales_channel='Online', ship_date='3/15/2015', total_cost=1588143.25, total_profit=1048610.0, total_revenue=2636753.25, unit_cost=263.3299865722656, unit_price=437.20001220703125, units_sold=6031)\n",
            "Row(order_id=797385394, country='Italy', item_type='Office Supplies', order_date='3/29/2011', order_priority='H', region='Europe', sales_channel='Online', ship_date='4/11/2011', total_cost=1529208.5, total_profit=367766.25, total_revenue=1896974.75, unit_cost=524.9600219726562, unit_price=651.2100219726562, units_sold=2913)\n",
            "Row(order_id=153842341, country='Brunei', item_type='Cereal', order_date='5/28/2013', order_priority='L', region='Asia', sales_channel='Offline', ship_date='7/16/2013', total_cost=494438.40625, total_profit=374026.96875, total_revenue=868465.375, unit_cost=117.11000061035156, unit_price=205.6999969482422, units_sold=4222)\n",
            "Row(order_id=659878194, country='Tanzania', item_type='Beverages', order_date='11/30/2016', order_priority='L', region='Sub-Saharan Africa', sales_channel='Online', ship_date='1/16/2017', total_cost=46922.0390625, total_profit=23114.16015625, total_revenue=70036.203125, unit_cost=31.790000915527344, unit_price=47.45000076293945, units_sold=1476)\n",
            "Row(order_id=314505374, country='Vietnam', item_type='Personal Care', order_date='4/4/2010', order_priority='M', region='Asia', sales_channel='Online', ship_date='5/6/2010', total_cost=452453.28125, total_profit=200079.046875, total_revenue=652532.3125, unit_cost=56.66999816894531, unit_price=81.7300033569336, units_sold=7984)\n",
            "Row(order_id=791778934, country='Ghana', item_type='Clothes', order_date='11/2/2011', order_priority='M', region='Sub-Saharan Africa', sales_channel='Online', ship_date='12/1/2011', total_cost=137482.234375, total_profit=281715.84375, total_revenue=419198.09375, unit_cost=35.84000015258789, unit_price=109.27999877929688, units_sold=3836)\n",
            "Row(order_id=747796285, country='Japan', item_type='Household', order_date='7/16/2014', order_priority='M', region='Asia', sales_channel='Offline', ship_date='7/24/2014', total_cost=4217818.0, total_profit=1390971.875, total_revenue=5608790.0, unit_cost=502.5400085449219, unit_price=668.27001953125, units_sold=8393)\n",
            "Row(order_id=667593514, country='Morocco', item_type='Clothes', order_date='9/14/2013', order_priority='M', region='Middle East and North Africa', sales_channel='Online', ship_date='10/19/2013', total_cost=165258.234375, total_profit=338631.84375, total_revenue=503890.09375, unit_cost=35.84000015258789, unit_price=109.27999877929688, units_sold=4611)\n",
            "Row(order_id=887409770, country='Italy', item_type='Cereal', order_date='11/30/2015', order_priority='C', region='Europe', sales_channel='Online', ship_date='12/5/2015', total_cost=366085.875, total_profit=276932.34375, total_revenue=643018.1875, unit_cost=117.11000061035156, unit_price=205.6999969482422, units_sold=3126)\n",
            "Row(order_id=940995585, country='Papua New Guinea', item_type='Meat', order_date='5/15/2015', order_priority='M', region='Australia and Oceania', sales_channel='Offline', ship_date='6/4/2015', total_cost=131288.40625, total_profit=20592.0, total_revenue=151880.40625, unit_cost=364.69000244140625, unit_price=421.8900146484375, units_sold=360)\n",
            "Row(order_id=358570849, country='Oman', item_type='Cosmetics', order_date='11/29/2010', order_priority='H', region='Middle East and North Africa', sales_channel='Online', ship_date='12/28/2010', total_cost=2090050.25, total_profit=1380006.25, total_revenue=3470056.5, unit_cost=263.3299865722656, unit_price=437.20001220703125, units_sold=7937)\n",
            "Row(order_id=678230941, country='Iceland', item_type='Baby Food', order_date='10/2/2010', order_priority='M', region='Europe', sales_channel='Offline', ship_date='11/3/2010', total_cost=392492.03125, total_profit=236007.3125, total_revenue=628499.375, unit_cost=159.4199981689453, unit_price=255.27999877929688, units_sold=2462)\n",
            "Row(order_id=180908620, country='Moldova ', item_type='Fruits', order_date='1/27/2013', order_priority='C', region='Europe', sales_channel='Online', ship_date='3/3/2013', total_cost=25853.119140625, total_profit=9003.759765625, total_revenue=34856.87890625, unit_cost=6.920000076293945, unit_price=9.329999923706055, units_sold=3736)\n",
            "Row(order_id=265081918, country='Sweden', item_type='Beverages', order_date='9/13/2012', order_priority='H', region='Europe', sales_channel='Online', ship_date='10/12/2012', total_cost=78998.1484375, total_profit=38915.1015625, total_revenue=117913.25, unit_cost=31.790000915527344, unit_price=47.45000076293945, units_sold=2485)\n",
            "Row(order_id=315402734, country='Belize', item_type='Personal Care', order_date='6/14/2015', order_priority='H', region='Central America and the Caribbean', sales_channel='Online', ship_date='8/2/2015', total_cost=200215.109375, total_profit=88536.9765625, total_revenue=288752.09375, unit_cost=56.66999816894531, unit_price=81.7300033569336, units_sold=3533)\n",
            "Row(order_id=156530129, country='Tanzania', item_type='Fruits', order_date='10/20/2014', order_priority='H', region='Sub-Saharan Africa', sales_channel='Offline', ship_date='11/29/2014', total_cost=66425.078125, total_profit=23133.58984375, total_revenue=89558.671875, unit_cost=6.920000076293945, unit_price=9.329999923706055, units_sold=9599)\n",
            "Row(order_id=647164094, country='Papua New Guinea', item_type='Clothes', order_date='6/20/2011', order_priority='L', region='Australia and Oceania', sales_channel='Offline', ship_date='7/14/2011', total_cost=325857.28125, total_profit=667716.5, total_revenue=993573.75, unit_cost=35.84000015258789, unit_price=109.27999877929688, units_sold=9092)\n",
            "Row(order_id=286891067, country='Antigua and Barbuda ', item_type='Office Supplies', order_date='10/2/2011', order_priority='C', region='Central America and the Caribbean', sales_channel='Offline', ship_date='10/4/2011', total_cost=3305673.0, total_profit=794996.25, total_revenue=4100669.25, unit_cost=524.9600219726562, unit_price=651.2100219726562, units_sold=6297)\n",
            "Row(order_id=633134210, country='Romania', item_type='Cereal', order_date='4/16/2015', order_priority='M', region='Europe', sales_channel='Online', ship_date='4/18/2015', total_cost=859236.0625, total_profit=649984.8125, total_revenue=1509220.875, unit_cost=117.11000061035156, unit_price=205.6999969482422, units_sold=7337)\n",
            "Row(order_id=548299157, country='Sao Tome and Principe', item_type='Clothes', order_date='11/11/2015', order_priority='L', region='Sub-Saharan Africa', sales_channel='Offline', ship_date='12/28/2015', total_cost=98918.3984375, total_profit=202694.40625, total_revenue=301612.8125, unit_cost=35.84000015258789, unit_price=109.27999877929688, units_sold=2760)\n",
            "Row(order_id=761723172, country='Algeria', item_type='Cosmetics', order_date='2/18/2011', order_priority='M', region='Middle East and North Africa', sales_channel='Online', ship_date='2/24/2011', total_cost=2546137.75, total_profit=1681149.0, total_revenue=4227287.0, unit_cost=263.3299865722656, unit_price=437.20001220703125, units_sold=9669)\n",
            "Row(order_id=699160754, country='Rwanda', item_type='Fruits', order_date='9/5/2012', order_priority='L', region='Sub-Saharan Africa', sales_channel='Online', ship_date='9/15/2012', total_cost=41928.28125, total_profit=14602.1904296875, total_revenue=56530.46875, unit_cost=6.920000076293945, unit_price=9.329999923706055, units_sold=6059)\n",
            "Row(order_id=174590194, country='Slovakia', item_type='Beverages', order_date='10/26/2016', order_priority='L', region='Europe', sales_channel='Offline', ship_date='12/4/2016', total_cost=126301.671875, total_profit=62217.1796875, total_revenue=188518.84375, unit_cost=31.790000915527344, unit_price=47.45000076293945, units_sold=3973)\n",
            "Row(order_id=440306556, country='India', item_type='Snacks', order_date='10/10/2012', order_priority='L', region='Asia', sales_channel='Online', ship_date='11/20/2012', total_cost=521206.5625, total_profit=294943.875, total_revenue=816150.4375, unit_cost=97.44000244140625, unit_price=152.5800018310547, units_sold=5349)\n",
            "Row(order_id=571997869, country='Vanuatu', item_type='Fruits', order_date='11/3/2013', order_priority='C', region='Australia and Oceania', sales_channel='Online', ship_date='11/11/2013', total_cost=39686.19921875, total_profit=13821.349609375, total_revenue=53507.55078125, unit_cost=6.920000076293945, unit_price=9.329999923706055, units_sold=5735)\n",
            "Row(order_id=101328551, country='Solomon Islands', item_type='Household', order_date='12/17/2010', order_priority='M', region='Australia and Oceania', sales_channel='Online', ship_date='12/28/2010', total_cost=2123231.5, total_profit=700209.25, total_revenue=2823440.75, unit_cost=502.5400085449219, unit_price=668.27001953125, units_sold=4225)\n",
            "Row(order_id=757257401, country='Finland', item_type='Household', order_date='1/15/2016', order_priority='H', region='Europe', sales_channel='Offline', ship_date='1/31/2016', total_cost=4094696.0, total_profit=1350368.0, total_revenue=5445064.0, unit_cost=502.5400085449219, unit_price=668.27001953125, units_sold=8148)\n",
            "Row(order_id=438011872, country='Dominica', item_type='Beverages', order_date='6/12/2012', order_priority='L', region='Central America and the Caribbean', sales_channel='Online', ship_date='7/18/2012', total_cost=200308.796875, total_profit=98673.65625, total_revenue=298982.4375, unit_cost=31.790000915527344, unit_price=47.45000076293945, units_sold=6301)\n",
            "Row(order_id=732588374, country='Taiwan', item_type='Fruits', order_date='2/9/2014', order_priority='M', region='Asia', sales_channel='Offline', ship_date='2/23/2014', total_cost=55595.28125, total_profit=19361.939453125, total_revenue=74957.21875, unit_cost=6.920000076293945, unit_price=9.329999923706055, units_sold=8034)\n",
            "Row(order_id=726137769, country='Czech Republic', item_type='Cosmetics', order_date='3/22/2014', order_priority='H', region='Europe', sales_channel='Online', ship_date='4/26/2014', total_cost=2411312.75, total_profit=1592127.625, total_revenue=4003440.5, unit_cost=263.3299865722656, unit_price=437.20001220703125, units_sold=9157)\n",
            "Row(order_id=467399013, country='Monaco', item_type='Beverages', order_date='5/29/2016', order_priority='M', region='Europe', sales_channel='Offline', ship_date='6/14/2016', total_cost=82940.109375, total_profit=40856.94140625, total_revenue=123797.046875, unit_cost=31.790000915527344, unit_price=47.45000076293945, units_sold=2609)\n",
            "Row(order_id=176461303, country='Singapore', item_type='Snacks', order_date='1/28/2013', order_priority='C', region='Asia', sales_channel='Online', ship_date='2/7/2013', total_cost=747949.4375, total_profit=423254.625, total_revenue=1171204.125, unit_cost=97.44000244140625, unit_price=152.5800018310547, units_sold=7676)\n",
            "Row(order_id=450544869, country='Malawi', item_type='Meat', order_date='3/1/2016', order_priority='H', region='Sub-Saharan Africa', sales_channel='Offline', ship_date='3/12/2016', total_cost=1857730.875, total_profit=291376.8125, total_revenue=2149107.75, unit_cost=364.69000244140625, unit_price=421.8900146484375, units_sold=5094)\n",
            "Row(order_id=902511680, country='Montenegro', item_type='Clothes', order_date='9/4/2016', order_priority='M', region='Europe', sales_channel='Offline', ship_date='9/8/2016', total_cost=75873.28125, total_profit=155472.484375, total_revenue=231345.765625, unit_cost=35.84000015258789, unit_price=109.27999877929688, units_sold=2117)\n",
            "Row(order_id=739008080, country='Tanzania', item_type='Cosmetics', order_date='5/23/2016', order_priority='L', region='Sub-Saharan Africa', sales_channel='Offline', ship_date='5/24/2016', total_cost=2045547.5, total_profit=1350622.125, total_revenue=3396169.5, unit_cost=263.3299865722656, unit_price=437.20001220703125, units_sold=7768)\n",
            "Row(order_id=252889239, country='Thailand', item_type='Meat', order_date='2/4/2015', order_priority='C', region='Asia', sales_channel='Online', ship_date='2/19/2015', total_cost=1605000.75, total_profit=251737.203125, total_revenue=1856737.875, unit_cost=364.69000244140625, unit_price=421.8900146484375, units_sold=4401)\n",
            "Row(order_id=190777862, country='United States of America', item_type='Personal Care', order_date='1/21/2016', order_priority='H', region='North America', sales_channel='Online', ship_date='2/19/2016', total_cost=241640.875, total_profit=106855.84375, total_revenue=348496.71875, unit_cost=56.66999816894531, unit_price=81.7300033569336, units_sold=4264)\n",
            "Row(order_id=104191863, country='Albania', item_type='Personal Care', order_date='2/6/2016', order_priority='M', region='Europe', sales_channel='Offline', ship_date='2/11/2016', total_cost=87441.8125, total_profit=38667.578125, total_revenue=126109.390625, unit_cost=56.66999816894531, unit_price=81.7300033569336, units_sold=1543)\n",
            "Row(order_id=343752610, country='Nicaragua', item_type='Baby Food', order_date='11/11/2016', order_priority='L', region='Central America and the Caribbean', sales_channel='Online', ship_date='11/16/2016', total_cost=460883.21875, total_profit=277131.25, total_revenue=738014.5, unit_cost=159.4199981689453, unit_price=255.27999877929688, units_sold=2891)\n",
            "Row(order_id=955894076, country='Malaysia', item_type='Beverages', order_date='11/13/2014', order_priority='M', region='Asia', sales_channel='Online', ship_date='12/28/2014', total_cost=291005.65625, total_profit=143351.640625, total_revenue=434357.3125, unit_cost=31.790000915527344, unit_price=47.45000076293945, units_sold=9154)\n",
            "Row(order_id=752525556, country='Albania', item_type='Baby Food', order_date='7/19/2012', order_priority='H', region='Europe', sales_channel='Offline', ship_date='8/13/2012', total_cost=1257823.75, total_profit=756335.375, total_revenue=2014159.25, unit_cost=159.4199981689453, unit_price=255.27999877929688, units_sold=7890)\n",
            "Row(order_id=539471471, country='Uganda', item_type='Personal Care', order_date='6/19/2014', order_priority='M', region='Sub-Saharan Africa', sales_channel='Online', ship_date='7/21/2014', total_cost=25558.169921875, total_profit=11302.0595703125, total_revenue=36860.23046875, unit_cost=56.66999816894531, unit_price=81.7300033569336, units_sold=451)\n",
            "Row(order_id=198927056, country='China', item_type='Office Supplies', order_date='2/10/2016', order_priority='M', region='Asia', sales_channel='Online', ship_date='3/29/2016', total_cost=3040043.25, total_profit=731113.75, total_revenue=3771157.0, unit_cost=524.9600219726562, unit_price=651.2100219726562, units_sold=5791)\n",
            "Row(order_id=880811536, country='Djibouti', item_type='Clothes', order_date='5/17/2017', order_priority='H', region='Sub-Saharan Africa', sales_channel='Offline', ship_date='7/2/2017', total_cost=20142.080078125, total_profit=41273.28125, total_revenue=61415.359375, unit_cost=35.84000015258789, unit_price=109.27999877929688, units_sold=562)\n",
            "Row(order_id=601245963, country='Ghana', item_type='Office Supplies', order_date='3/23/2017', order_priority='L', region='Sub-Saharan Africa', sales_channel='Online', ship_date='4/15/2017', total_cost=470364.15625, total_profit=113120.0, total_revenue=583484.1875, unit_cost=524.9600219726562, unit_price=651.2100219726562, units_sold=896)\n",
            "Row(order_id=494570004, country='Madagascar', item_type='Clothes', order_date='10/17/2016', order_priority='L', region='Sub-Saharan Africa', sales_channel='Online', ship_date='10/26/2016', total_cost=111462.3984375, total_profit=228398.40625, total_revenue=339860.8125, unit_cost=35.84000015258789, unit_price=109.27999877929688, units_sold=3110)\n",
            "Row(order_id=135178029, country='United Kingdom', item_type='Cosmetics', order_date='5/1/2015', order_priority='L', region='Europe', sales_channel='Online', ship_date='5/16/2015', total_cost=273336.53125, total_profit=180477.0625, total_revenue=453813.59375, unit_cost=263.3299865722656, unit_price=437.20001220703125, units_sold=1038)\n"
          ]
        }
      ]
    },
    {
      "cell_type": "code",
      "source": [
        "create_silver_table_query = \"\"\"\n",
        "CREATE TABLE IF NOT EXISTS learning.silver_sales (\n",
        "    region text,\n",
        "    country text,\n",
        "    item_type text,\n",
        "    sales_channel text,\n",
        "    order_priority text,\n",
        "    order_date date,\n",
        "    order_id UUID PRIMARY KEY,\n",
        "    ship_date date,\n",
        "    units_sold int,\n",
        "    unit_price float,\n",
        "    unit_cost float,\n",
        "    total_revenue float,\n",
        "    total_cost float,\n",
        "    total_profit float\n",
        ");\n",
        "\n",
        "\"\"\"\n",
        "session.execute(create_silver_table_query)\n",
        "print(\"Table created successfully!\")"
      ],
      "metadata": {
        "colab": {
          "base_uri": "https://localhost:8080/"
        },
        "id": "JcXZLS7Mo3wV",
        "outputId": "9a521a27-9023-4c44-e36c-4acdd75a0193"
      },
      "execution_count": 23,
      "outputs": [
        {
          "output_type": "stream",
          "name": "stdout",
          "text": [
            "Table created successfully!\n"
          ]
        }
      ]
    },
    {
      "cell_type": "code",
      "source": [
        "import pandas as pd\n",
        "from cassandra.cluster import Cluster\n",
        "from datetime import datetime\n",
        "import uuid\n",
        "\n",
        "# Step 1: Load and clean the data\n",
        "csv_file_path = \"sales_100.csv\"\n",
        "df = pd.read_csv(csv_file_path)\n",
        "\n",
        "df.columns = df.columns.str.strip()\n",
        "\n",
        "print(\"Column names in the DataFrame:\", df.columns)\n",
        "\n",
        "df['Order Date'] = pd.to_datetime(df['Order Date'], format='%m/%d/%Y')\n",
        "df['Ship Date'] = pd.to_datetime(df['Ship Date'], format='%m/%d/%Y')\n",
        "\n",
        "# Step 2: Define the required columns and check for missing ones\n",
        "required_columns = ['Order ID', 'Region', 'Country', 'Item Type', 'Sales Channel', 'Order Priority',\n",
        "                    'Order Date', 'Ship Date', 'UnitsSold', 'UnitPrice', 'UnitCost', 'TotalRevenue',\n",
        "                    'TotalCost', 'TotalProfit']\n",
        "\n",
        "missing_columns = [col for col in required_columns if col not in df.columns]\n",
        "\n",
        "if missing_columns:\n",
        "    print(f\"Missing columns in the DataFrame: {missing_columns}\")\n",
        "else:\n",
        "\n",
        "\n",
        "    # Step 4: Insert each row into Cassandra using iterrows()\n",
        "    for _, row in df.iterrows():\n",
        "        query = \"\"\"\n",
        "        INSERT INTO learning.silver_sales (\n",
        "            order_id, region, country, item_type, sales_channel, order_priority,\n",
        "            order_date, ship_date, units_sold, unit_price, unit_cost, total_revenue,\n",
        "            total_cost, total_profit\n",
        "        )\n",
        "        VALUES (%s, %s, %s, %s, %s, %s, %s, %s, %s, %s, %s, %s, %s, %s)\n",
        "        \"\"\"\n",
        "\n",
        "        # Convert 'Order ID' to UUID if it's not already\n",
        "        # Check if the 'Order ID' is a valid integer, and convert it to UUID\n",
        "        if isinstance(row['Order ID'], int):\n",
        "            order_id = uuid.uuid5(uuid.NAMESPACE_DNS, str(row['Order ID']))  # Generate UUID based on the integer\n",
        "        else:\n",
        "            order_id = uuid.UUID(row['Order ID'])  # If it's already a UUID string\n",
        "\n",
        "        session.execute(query, (\n",
        "            order_id,  # UUID type\n",
        "            row['Region'],  # Region\n",
        "            row['Country'],  # Country\n",
        "            row['Item Type'],  # Item Type\n",
        "            row['Sales Channel'],  # Sales Channel\n",
        "            row['Order Priority'],  # Order Priority\n",
        "            row['Order Date'].date(),  # 'Order Date' as DATE type\n",
        "            row['Ship Date'].date(),  # 'Ship Date' as DATE type\n",
        "            int(row['UnitsSold']),  # Units Sold\n",
        "            float(row['UnitPrice']),  # Unit Price\n",
        "            float(row['UnitCost']),  # Unit Cost\n",
        "            float(row['TotalRevenue']),  # Total Revenue\n",
        "            float(row['TotalCost']),  # Total Cost\n",
        "            float(row['TotalProfit'])  # Total Profit\n",
        "        ))\n",
        "\n",
        "    print(\"Silver table populated successfully!\")\n"
      ],
      "metadata": {
        "colab": {
          "base_uri": "https://localhost:8080/"
        },
        "id": "QWOPkk0AqwZJ",
        "outputId": "b4fd4db1-9cd8-433a-b869-e9ccfaed23cb"
      },
      "execution_count": 43,
      "outputs": [
        {
          "output_type": "stream",
          "name": "stdout",
          "text": [
            "Column names in the DataFrame: Index(['Region', 'Country', 'Item Type', 'Sales Channel', 'Order Priority',\n",
            "       'Order Date', 'Order ID', 'Ship Date', 'UnitsSold', 'UnitPrice',\n",
            "       'UnitCost', 'TotalRevenue', 'TotalCost', 'TotalProfit'],\n",
            "      dtype='object')\n",
            "Silver table populated successfully!\n"
          ]
        }
      ]
    },
    {
      "cell_type": "code",
      "source": [
        "query = \"SELECT * FROM learning.silver_sales ;\"\n",
        "rows = session.execute(query)\n",
        "\n",
        "for row in rows:\n",
        "    print(row)"
      ],
      "metadata": {
        "colab": {
          "base_uri": "https://localhost:8080/"
        },
        "id": "b3HIXZAov9OO",
        "outputId": "d4d8ec69-b7ac-4fa2-bf6d-5d06b9553d70"
      },
      "execution_count": 44,
      "outputs": [
        {
          "output_type": "stream",
          "name": "stdout",
          "text": [
            "Row(order_id=UUID('40d641b2-f5bc-5cfd-9261-0ec2561d71b0'), country='South Africa', item_type='Fruits', order_date=Date(15548), order_priority='M', region='Sub-Saharan Africa', sales_channel='Offline', ship_date=Date(15549), total_cost=11023.5595703125, total_profit=3839.1298828125, total_revenue=14862.6904296875, unit_cost=6.920000076293945, unit_price=9.329999923706055, units_sold=1593)\n",
            "Row(order_id=UUID('472b20a1-e4ff-5b13-a9b7-b2a93efdca62'), country='United Arab Emirates', item_type='Office Supplies', order_date=Date(15514), order_priority='M', region='Middle East and North Africa', sales_channel='Online', ship_date=Date(15527), total_cost=5041191.0, total_profit=1212378.75, total_revenue=6253569.5, unit_cost=524.9600219726562, unit_price=651.2100219726562, units_sold=9603)\n",
            "Row(order_id=UUID('0791d9b1-c215-5d51-be8d-7ed65918272d'), country='Vanuatu', item_type='Cereal', order_date=Date(16241), order_priority='C', region='Australia and Oceania', sales_channel='Offline', ship_date=Date(16287), total_cost=665301.9375, total_profit=503279.78125, total_revenue=1168581.75, unit_cost=117.11000061035156, unit_price=205.6999969482422, units_sold=5681)\n",
            "Row(order_id=UUID('61d737b9-7a72-5633-9310-0b67505fc0be'), country='Liberia', item_type='Baby Food', order_date=Date(16592), order_priority='H', region='Sub-Saharan Africa', sales_channel='Offline', ship_date=Date(16598), total_cost=211072.078125, total_profit=126918.640625, total_revenue=337990.71875, unit_cost=159.4199981689453, unit_price=255.27999877929688, units_sold=1324)\n",
            "Row(order_id=UUID('e7c5fb68-0fc7-5682-a16e-00d441f1d2ac'), country='Nepal', item_type='Meat', order_date=Date(16122), order_priority='H', region='Asia', sales_channel='Online', ship_date=Date(16143), total_cost=3463096.25, total_profit=543171.1875, total_revenue=4006267.5, unit_cost=364.69000244140625, unit_price=421.8900146484375, units_sold=9496)\n",
            "Row(order_id=UUID('bfc110de-ea3d-577e-90b0-7293e223273f'), country='Algeria', item_type='Cosmetics', order_date=Date(15023), order_priority='M', region='Middle East and North Africa', sales_channel='Online', ship_date=Date(15029), total_cost=2546137.75, total_profit=1681149.0, total_revenue=4227287.0, unit_cost=263.3299865722656, unit_price=437.20001220703125, units_sold=9669)\n",
            "Row(order_id=UUID('835aa2c9-fd6e-5ab6-aa20-aa8e9c6acf99'), country='Serbia', item_type='Clothes', order_date=Date(16988), order_priority='L', region='Europe', sales_channel='Offline', ship_date=Date(16995), total_cost=263352.3125, total_profit=539637.125, total_revenue=802989.4375, unit_cost=35.84000015258789, unit_price=109.27999877929688, units_sold=7348)\n",
            "Row(order_id=UUID('1b2ad3e3-6559-522a-bb84-71be7a0fa469'), country='Albania', item_type='Baby Food', order_date=Date(15540), order_priority='H', region='Europe', sales_channel='Offline', ship_date=Date(15565), total_cost=1257823.75, total_profit=756335.375, total_revenue=2014159.25, unit_cost=159.4199981689453, unit_price=255.27999877929688, units_sold=7890)\n",
            "Row(order_id=UUID('ef81ca83-c1fa-58fc-bbba-023045722535'), country='Egypt', item_type='Clothes', order_date=Date(17022), order_priority='C', region='Middle East and North Africa', sales_channel='Online', ship_date=Date(17037), total_cost=42721.28125, total_profit=87540.4765625, total_revenue=130261.7578125, unit_cost=35.84000015258789, unit_price=109.27999877929688, units_sold=1192)\n",
            "Row(order_id=UUID('e8aabfa6-85c2-574a-be42-7d5c263dc2b0'), country='Malaysia', item_type='Beverages', order_date=Date(16387), order_priority='M', region='Asia', sales_channel='Online', ship_date=Date(16432), total_cost=291005.65625, total_profit=143351.640625, total_revenue=434357.3125, unit_cost=31.790000915527344, unit_price=47.45000076293945, units_sold=9154)\n",
            "Row(order_id=UUID('2102d1b5-a746-509b-aafc-092cbc7a5f6f'), country='Malawi', item_type='Meat', order_date=Date(16861), order_priority='H', region='Sub-Saharan Africa', sales_channel='Offline', ship_date=Date(16872), total_cost=1857730.875, total_profit=291376.8125, total_revenue=2149107.75, unit_cost=364.69000244140625, unit_price=421.8900146484375, units_sold=5094)\n",
            "Row(order_id=UUID('aa0b3323-2575-5ad4-8178-5502f3f34ed4'), country='Uganda', item_type='Cosmetics', order_date=Date(16494), order_priority='M', region='Sub-Saharan Africa', sales_channel='Online', ship_date=Date(16509), total_cost=1588143.25, total_profit=1048610.0, total_revenue=2636753.25, unit_cost=263.3299865722656, unit_price=437.20001220703125, units_sold=6031)\n",
            "Row(order_id=UUID('4f5d177e-6f07-5b44-9466-426f74683f9d'), country='Thailand', item_type='Meat', order_date=Date(16470), order_priority='C', region='Asia', sales_channel='Online', ship_date=Date(16485), total_cost=1605000.75, total_profit=251737.203125, total_revenue=1856737.875, unit_cost=364.69000244140625, unit_price=421.8900146484375, units_sold=4401)\n",
            "Row(order_id=UUID('92374c0c-d9be-5bdd-bf1c-0a0a7c9b260f'), country='Dominica', item_type='Household', order_date=Date(15297), order_priority='C', region='Central America and the Caribbean', sales_channel='Offline', ship_date=Date(15321), total_cost=3539891.75, total_profit=1167402.125, total_revenue=4707294.0, unit_cost=502.5400085449219, unit_price=668.27001953125, units_sold=7044)\n",
            "Row(order_id=UUID('5a79b653-de83-56da-bd73-1625d1ac837c'), country='Canada', item_type='Cosmetics', order_date=Date(15103), order_priority='H', region='North America', sales_channel='Online', ship_date=Date(15127), total_cost=1965495.125, total_profit=1297765.625, total_revenue=3263260.75, unit_cost=263.3299865722656, unit_price=437.20001220703125, units_sold=7464)\n",
            "Row(order_id=UUID('28b0b643-e6be-5c60-b0d6-20f55ec97fca'), country='Pakistan', item_type='Meat', order_date=Date(16067), order_priority='M', region='Middle East and North Africa', sales_channel='Online', ship_date=Date(16116), total_cost=3635594.5, total_profit=570226.8125, total_revenue=4205821.5, unit_cost=364.69000244140625, unit_price=421.8900146484375, units_sold=9969)\n",
            "Row(order_id=UUID('f0187b1d-9cb5-5bc4-ae97-106afe1579e5'), country='Tunisia ', item_type='Cosmetics', order_date=Date(15522), order_priority='H', region='Middle East and North Africa', sales_channel='Offline', ship_date=Date(15541), total_cost=645158.5, total_profit=425981.5, total_revenue=1071140.0, unit_cost=263.3299865722656, unit_price=437.20001220703125, units_sold=2450)\n",
            "Row(order_id=UUID('615128b5-3c32-595b-b6e6-81e1cb5eaaf6'), country='Sweden', item_type='Beverages', order_date=Date(15596), order_priority='H', region='Europe', sales_channel='Online', ship_date=Date(15625), total_cost=78998.1484375, total_profit=38915.1015625, total_revenue=117913.25, unit_cost=31.790000915527344, unit_price=47.45000076293945, units_sold=2485)\n",
            "Row(order_id=UUID('9182a756-7146-59be-b7d5-4154d7aec7d4'), country='Moldova ', item_type='Fruits', order_date=Date(15732), order_priority='C', region='Europe', sales_channel='Online', ship_date=Date(15767), total_cost=25853.119140625, total_profit=9003.759765625, total_revenue=34856.87890625, unit_cost=6.920000076293945, unit_price=9.329999923706055, units_sold=3736)\n",
            "Row(order_id=UUID('21b22420-1759-5985-bec5-4b3f76afb9ed'), country='Finland', item_type='Household', order_date=Date(16815), order_priority='H', region='Europe', sales_channel='Offline', ship_date=Date(16831), total_cost=4094696.0, total_profit=1350368.0, total_revenue=5445064.0, unit_cost=502.5400085449219, unit_price=668.27001953125, units_sold=8148)\n",
            "Row(order_id=UUID('ed19b231-d516-5b36-b7b2-b93366bd7b6e'), country='The Gambia', item_type='Fruits', order_date=Date(15298), order_priority='C', region='Sub-Saharan Africa', sales_channel='Online', ship_date=Date(15300), total_cost=60197.078125, total_profit=20964.58984375, total_revenue=81161.671875, unit_cost=6.920000076293945, unit_price=9.329999923706055, units_sold=8699)\n",
            "Row(order_id=UUID('46d356e1-05c7-54d1-ad1c-303b0233fa3f'), country='Madagascar', item_type='Clothes', order_date=Date(17091), order_priority='L', region='Sub-Saharan Africa', sales_channel='Online', ship_date=Date(17100), total_cost=111462.3984375, total_profit=228398.40625, total_revenue=339860.8125, unit_cost=35.84000015258789, unit_price=109.27999877929688, units_sold=3110)\n",
            "Row(order_id=UUID('935468f8-5ec9-5f98-a0f2-f3f6b92a1e03'), country='Burundi', item_type='Beverages', order_date=Date(15042), order_priority='H', region='Sub-Saharan Africa', sales_channel='Online', ship_date=Date(15073), total_cost=112314.0703125, total_profit=55326.78125, total_revenue=167640.84375, unit_cost=31.790000915527344, unit_price=47.45000076293945, units_sold=3533)\n",
            "Row(order_id=UUID('32dd7728-3d21-5436-96bb-74d43c76951e'), country='Nicaragua', item_type='Household', order_date=Date(16736), order_priority='C', region='Central America and the Caribbean', sales_channel='Online', ship_date=Date(16776), total_cost=3915289.25, total_profit=1291202.375, total_revenue=5206491.5, unit_cost=502.5400085449219, unit_price=668.27001953125, units_sold=7791)\n",
            "Row(order_id=UUID('8ad3f301-4e20-5372-804b-b5ea772feaac'), country='Monaco', item_type='Beverages', order_date=Date(16950), order_priority='M', region='Europe', sales_channel='Offline', ship_date=Date(16966), total_cost=82940.109375, total_profit=40856.94140625, total_revenue=123797.046875, unit_cost=31.790000915527344, unit_price=47.45000076293945, units_sold=2609)\n",
            "Row(order_id=UUID('b933bd28-3fd4-5979-9d84-abe2e82f714b'), country='East Timor', item_type='Cereal', order_date=Date(16776), order_priority='M', region='Australia and Oceania', sales_channel='Offline', ship_date=Date(16799), total_cost=30331.490234375, total_profit=22944.810546875, total_revenue=53276.30078125, unit_cost=117.11000061035156, unit_price=205.6999969482422, units_sold=259)\n",
            "Row(order_id=UUID('15f6a9ba-83a6-509e-b4b0-205efb8d9fb9'), country='Finland', item_type='Vegetables', order_date=Date(15622), order_priority='C', region='Europe', sales_channel='Offline', ship_date=Date(15671), total_cost=63469.140625, total_profit=44064.73828125, total_revenue=107533.8828125, unit_cost=90.93000030517578, unit_price=154.05999755859375, units_sold=698)\n",
            "Row(order_id=UUID('0fe4288c-bf0a-5448-b2f2-c8482cac6f7c'), country='Ghana', item_type='Fruits', order_date=Date(16950), order_priority='M', region='Sub-Saharan Africa', sales_channel='Offline', ship_date=Date(16956), total_cost=9155.16015625, total_profit=3188.429931640625, total_revenue=12343.58984375, unit_cost=6.920000076293945, unit_price=9.329999923706055, units_sold=1323)\n",
            "Row(order_id=UUID('5f6a1a15-e510-5146-94c3-653b3e045244'), country='Mauritius ', item_type='Clothes', order_date=Date(15661), order_priority='M', region='Sub-Saharan Africa', sales_channel='Offline', ship_date=Date(15676), total_cost=197836.796875, total_profit=405388.8125, total_revenue=603225.625, unit_cost=35.84000015258789, unit_price=109.27999877929688, units_sold=5520)\n",
            "Row(order_id=UUID('12277750-0fde-5fdc-8349-2e3721ec7c7a'), country='Belgium', item_type='Personal Care', order_date=Date(15279), order_priority='H', region='Europe', sales_channel='Online', ship_date=Date(15298), total_cost=160206.09375, total_profit=70844.6171875, total_revenue=231050.703125, unit_cost=56.66999816894531, unit_price=81.7300033569336, units_sold=2827)\n",
            "Row(order_id=UUID('9642b2ea-ca3e-56a1-a5cb-f82a0c0eaf90'), country='Lebanon', item_type='Meat', order_date=Date(17233), order_priority='L', region='Middle East and North Africa', sales_channel='Online', ship_date=Date(17274), total_cost=3198331.25, total_profit=501644.0, total_revenue=3699975.25, unit_cost=364.69000244140625, unit_price=421.8900146484375, units_sold=8770)\n",
            "Row(order_id=UUID('465ba874-cdef-5086-ac31-092865c6ea41'), country='France', item_type='Cosmetics', order_date=Date(16776), order_priority='M', region='Europe', sales_channel='Online', ship_date=Date(16818), total_cost=1516254.125, total_profit=1001143.4375, total_revenue=2517397.5, unit_cost=263.3299865722656, unit_price=437.20001220703125, units_sold=5758)\n",
            "Row(order_id=UUID('7fff37ca-8695-5c98-8765-b7fca9d936e4'), country='Samoa ', item_type='Household', order_date=Date(17140), order_priority='L', region='Australia and Oceania', sales_channel='Online', ship_date=Date(17143), total_cost=2842868.75, total_profit=937534.625, total_revenue=3780403.5, unit_cost=502.5400085449219, unit_price=668.27001953125, units_sold=5657)\n",
            "Row(order_id=UUID('427e353e-d5f5-53f5-9da2-535bd2fcc8a3'), country='Italy', item_type='Office Supplies', order_date=Date(15062), order_priority='H', region='Europe', sales_channel='Online', ship_date=Date(15075), total_cost=1529208.5, total_profit=367766.25, total_revenue=1896974.75, unit_cost=524.9600219726562, unit_price=651.2100219726562, units_sold=2913)\n",
            "Row(order_id=UUID('12d2469e-9117-518c-a36c-5135966de297'), country='South Korea', item_type='Meat', order_date=Date(16876), order_priority='L', region='Asia', sales_channel='Offline', ship_date=Date(16911), total_cost=2604251.25, total_profit=408465.1875, total_revenue=3012716.5, unit_cost=364.69000244140625, unit_price=421.8900146484375, units_sold=7141)\n",
            "Row(order_id=UUID('e363e2d4-4c5d-5585-9a68-18b624e3201f'), country='Switzerland', item_type='Office Supplies', order_date=Date(16280), order_priority='C', region='Europe', sales_channel='Offline', ship_date=Date(16309), total_cost=2960249.5, total_profit=711923.75, total_revenue=3672173.25, unit_cost=524.9600219726562, unit_price=651.2100219726562, units_sold=5639)\n",
            "Row(order_id=UUID('e40afd20-9238-5af8-84d8-ba3eb421a7e0'), country='Ghana', item_type='Clothes', order_date=Date(15280), order_priority='M', region='Sub-Saharan Africa', sales_channel='Online', ship_date=Date(15309), total_cost=137482.234375, total_profit=281715.84375, total_revenue=419198.09375, unit_cost=35.84000015258789, unit_price=109.27999877929688, units_sold=3836)\n",
            "Row(order_id=UUID('aaf40915-b17c-575c-95da-dbeab3f9b0fe'), country='Albania', item_type='Personal Care', order_date=Date(16837), order_priority='M', region='Europe', sales_channel='Offline', ship_date=Date(16842), total_cost=87441.8125, total_profit=38667.578125, total_revenue=126109.390625, unit_cost=56.66999816894531, unit_price=81.7300033569336, units_sold=1543)\n",
            "Row(order_id=UUID('2129426d-528e-5fa5-ad4e-493c7720cea3'), country='Togo', item_type='Cosmetics', order_date=Date(16686), order_priority='M', region='Sub-Saharan Africa', sales_channel='Online', ship_date=Date(16687), total_cost=1265564.0, total_profit=835619.25, total_revenue=2101183.25, unit_cost=263.3299865722656, unit_price=437.20001220703125, units_sold=4806)\n",
            "Row(order_id=UUID('41ec5599-a9e7-533e-b594-4a601735d00a'), country='Seychelles ', item_type='Beverages', order_date=Date(15723), order_priority='M', region='Sub-Saharan Africa', sales_channel='Online', ship_date=Date(15752), total_cost=18978.630859375, total_profit=9349.01953125, total_revenue=28327.650390625, unit_cost=31.790000915527344, unit_price=47.45000076293945, units_sold=597)\n",
            "Row(order_id=UUID('b2d5aaec-105a-5a79-9bf5-ba0a03d99db2'), country='Vietnam', item_type='Personal Care', order_date=Date(14703), order_priority='M', region='Asia', sales_channel='Online', ship_date=Date(14735), total_cost=452453.28125, total_profit=200079.046875, total_revenue=652532.3125, unit_cost=56.66999816894531, unit_price=81.7300033569336, units_sold=7984)\n",
            "Row(order_id=UUID('1c10e80f-6199-521c-90b5-289ca890bb2c'), country='India', item_type='Snacks', order_date=Date(15623), order_priority='L', region='Asia', sales_channel='Online', ship_date=Date(15664), total_cost=521206.5625, total_profit=294943.875, total_revenue=816150.4375, unit_cost=97.44000244140625, unit_price=152.5800018310547, units_sold=5349)\n",
            "Row(order_id=UUID('11d6d505-71a5-5056-83c7-790c2ef58a37'), country='Turkmenistan', item_type='Vegetables', order_date=Date(16538), order_priority='M', region='Asia', sales_channel='Online', ship_date=Date(16588), total_cost=606503.125, total_profit=421077.09375, total_revenue=1027580.1875, unit_cost=90.93000030517578, unit_price=154.05999755859375, units_sold=6670)\n",
            "Row(order_id=UUID('030932c2-9ec5-5a33-9c56-bce717118559'), country='Sri Lanka', item_type='Fruits', order_date=Date(15285), order_priority='L', region='Asia', sales_channel='Online', ship_date=Date(15326), total_cost=9542.6796875, total_profit=3323.389892578125, total_revenue=12866.0703125, unit_cost=6.920000076293945, unit_price=9.329999923706055, units_sold=1379)\n",
            "Row(order_id=UUID('bce55a64-17c3-565b-b409-1c63440bdb7a'), country='Israel', item_type='Beverages', order_date=Date(15956), order_priority='H', region='Middle East and North Africa', sales_channel='Offline', ship_date=Date(15991), total_cost=149699.109375, total_profit=73742.9375, total_revenue=223442.046875, unit_cost=31.790000915527344, unit_price=47.45000076293945, units_sold=4709)\n",
            "Row(order_id=UUID('9c4d25f2-bbfd-565d-b473-21c79c10d280'), country='Haiti', item_type='Office Supplies', order_date=Date(14974), order_priority='C', region='Central America and the Caribbean', sales_channel='Online', ship_date=Date(15005), total_cost=1077217.875, total_profit=259065.0, total_revenue=1336282.875, unit_cost=524.9600219726562, unit_price=651.2100219726562, units_sold=2052)\n",
            "Row(order_id=UUID('7c6dae58-c62c-539b-b840-e1a069810c44'), country='Antigua and Barbuda ', item_type='Office Supplies', order_date=Date(15249), order_priority='C', region='Central America and the Caribbean', sales_channel='Offline', ship_date=Date(15251), total_cost=3305673.0, total_profit=794996.25, total_revenue=4100669.25, unit_cost=524.9600219726562, unit_price=651.2100219726562, units_sold=6297)\n",
            "Row(order_id=UUID('b346a92e-77cb-5eb4-84d7-a633097c13b6'), country='Taiwan', item_type='Fruits', order_date=Date(16110), order_priority='M', region='Asia', sales_channel='Offline', ship_date=Date(16124), total_cost=55595.28125, total_profit=19361.939453125, total_revenue=74957.21875, unit_cost=6.920000076293945, unit_price=9.329999923706055, units_sold=8034)\n",
            "Row(order_id=UUID('ecc50e77-0ce7-5c28-a061-22511e3a9b15'), country='Saint Lucia', item_type='Fruits', order_date=Date(16781), order_priority='L', region='Central America and the Caribbean', sales_channel='Offline', ship_date=Date(16812), total_cost=24780.51953125, total_profit=8630.2099609375, total_revenue=33410.73046875, unit_cost=6.920000076293945, unit_price=9.329999923706055, units_sold=3581)\n",
            "Row(order_id=UUID('aeefa015-b18c-560f-a0fb-f9399091fb7c'), country='Mali', item_type='Household', order_date=Date(14840), order_priority='M', region='Sub-Saharan Africa', sales_channel='Offline', ship_date=Date(14859), total_cost=2169465.25, total_profit=715456.4375, total_revenue=2884921.5, unit_cost=502.5400085449219, unit_price=668.27001953125, units_sold=4317)\n",
            "Row(order_id=UUID('6c66db0a-cea6-5a6a-8bc5-9c69039f7067'), country='Montenegro', item_type='Clothes', order_date=Date(17048), order_priority='M', region='Europe', sales_channel='Offline', ship_date=Date(17052), total_cost=75873.28125, total_profit=155472.484375, total_revenue=231345.765625, unit_cost=35.84000015258789, unit_price=109.27999877929688, units_sold=2117)\n",
            "Row(order_id=UUID('9b5b8d35-35d2-5196-b443-5f7d9d5b2a12'), country='Sao Tome and Principe', item_type='Clothes', order_date=Date(16750), order_priority='L', region='Sub-Saharan Africa', sales_channel='Offline', ship_date=Date(16797), total_cost=98918.3984375, total_profit=202694.40625, total_revenue=301612.8125, unit_cost=35.84000015258789, unit_price=109.27999877929688, units_sold=2760)\n",
            "Row(order_id=UUID('374e27c8-50a9-57cb-bb6c-c9ffb4606fc8'), country='Romania', item_type='Cereal', order_date=Date(16541), order_priority='M', region='Europe', sales_channel='Online', ship_date=Date(16543), total_cost=859236.0625, total_profit=649984.8125, total_revenue=1509220.875, unit_cost=117.11000061035156, unit_price=205.6999969482422, units_sold=7337)\n",
            "Row(order_id=UUID('b5995449-01e0-5f75-aca7-c1830a0b2e0b'), country='Kuwait', item_type='Household', order_date=Date(15138), order_priority='C', region='Middle East and North Africa', sales_channel='Offline', ship_date=Date(15176), total_cost=736723.625, total_profit=242960.1875, total_revenue=979683.8125, unit_cost=502.5400085449219, unit_price=668.27001953125, units_sold=1466)\n",
            "Row(order_id=UUID('4809d878-693a-5f80-aba3-b587529a97ba'), country='Tonga', item_type='Baby Food', order_date=Date(16932), order_priority='L', region='Australia and Oceania', sales_channel='Online', ship_date=Date(16952), total_cost=881752.0, total_profit=530201.6875, total_revenue=1411953.625, unit_cost=159.4199981689453, unit_price=255.27999877929688, units_sold=5531)\n",
            "Row(order_id=UUID('e465d508-e203-5840-a10b-161e934df248'), country='Turkmenistan', item_type='Meat', order_date=Date(17286), order_priority='M', region='Asia', sales_channel='Online', ship_date=Date(17300), total_cost=1898576.125, total_profit=297783.1875, total_revenue=2196359.25, unit_cost=364.69000244140625, unit_price=421.8900146484375, units_sold=5206)\n",
            "Row(order_id=UUID('351ebb7c-d8f5-5930-834b-f79cc4c19ca4'), country='Djibouti', item_type='Clothes', order_date=Date(17303), order_priority='H', region='Sub-Saharan Africa', sales_channel='Offline', ship_date=Date(17349), total_cost=20142.080078125, total_profit=41273.28125, total_revenue=61415.359375, unit_cost=35.84000015258789, unit_price=109.27999877929688, units_sold=562)\n",
            "Row(order_id=UUID('66d377d5-a042-5e8e-8c03-fee940b8744d'), country='Nicaragua', item_type='Baby Food', order_date=Date(17116), order_priority='L', region='Central America and the Caribbean', sales_channel='Online', ship_date=Date(17121), total_cost=460883.21875, total_profit=277131.25, total_revenue=738014.5, unit_cost=159.4199981689453, unit_price=255.27999877929688, units_sold=2891)\n",
            "Row(order_id=UUID('6219fcee-f372-565d-9788-7493ca1a2207'), country='Thailand', item_type='Fruits', order_date=Date(15613), order_priority='C', region='Asia', sales_channel='Offline', ship_date=Date(15658), total_cost=10760.599609375, total_profit=3747.550048828125, total_revenue=14508.150390625, unit_cost=6.920000076293945, unit_price=9.329999923706055, units_sold=1555)\n",
            "Row(order_id=UUID('6d8b6af0-1fdf-5f79-aad0-1dbed6562216'), country='Vanuatu', item_type='Fruits', order_date=Date(16012), order_priority='C', region='Australia and Oceania', sales_channel='Online', ship_date=Date(16020), total_cost=39686.19921875, total_profit=13821.349609375, total_revenue=53507.55078125, unit_cost=6.920000076293945, unit_price=9.329999923706055, units_sold=5735)\n",
            "Row(order_id=UUID('ef167c0e-45f8-57bd-9a3c-c4ceff07ed39'), country='Indonesia', item_type='Household', order_date=Date(15245), order_priority='C', region='Asia', sales_channel='Online', ship_date=Date(15245), total_cost=313082.40625, total_profit=103249.7890625, total_revenue=416332.21875, unit_cost=502.5400085449219, unit_price=668.27001953125, units_sold=623)\n",
            "Row(order_id=UUID('d9e0597b-a649-57e0-9c96-53d35d384bff'), country='Czech Republic', item_type='Cosmetics', order_date=Date(16151), order_priority='H', region='Europe', sales_channel='Online', ship_date=Date(16186), total_cost=2411312.75, total_profit=1592127.625, total_revenue=4003440.5, unit_cost=263.3299865722656, unit_price=437.20001220703125, units_sold=9157)\n",
            "Row(order_id=UUID('34b38d3b-f51c-5c8c-976e-68c3167a5d1e'), country='Singapore', item_type='Snacks', order_date=Date(15733), order_priority='C', region='Asia', sales_channel='Online', ship_date=Date(15743), total_cost=747949.4375, total_profit=423254.625, total_revenue=1171204.125, unit_cost=97.44000244140625, unit_price=152.5800018310547, units_sold=7676)\n",
            "Row(order_id=UUID('5f0e7f0a-cdae-576f-8c81-25f38e9dee02'), country='Kazakhstan', item_type='Snacks', order_date=Date(15956), order_priority='L', region='Asia', sales_channel='Online', ship_date=Date(16003), total_cost=131738.875, total_profit=74549.28125, total_revenue=206288.15625, unit_cost=97.44000244140625, unit_price=152.5800018310547, units_sold=1352)\n",
            "Row(order_id=UUID('2473fe5a-c9d5-5ad8-8d41-968228f65ddc'), country='The Bahamas', item_type='Personal Care', order_date=Date(14993), order_priority='C', region='Central America and the Caribbean', sales_channel='Online', ship_date=Date(15026), total_cost=517793.78125, total_profit=228973.21875, total_revenue=746767.0, unit_cost=56.66999816894531, unit_price=81.7300033569336, units_sold=9137)\n",
            "Row(order_id=UUID('91c0a099-3ba2-579e-8eb5-135483ca9cc0'), country='Romania', item_type='Beverages', order_date=Date(15389), order_priority='M', region='Europe', sales_channel='Online', ship_date=Date(15412), total_cost=145629.984375, total_profit=71738.4609375, total_revenue=217368.453125, unit_cost=31.790000915527344, unit_price=47.45000076293945, units_sold=4581)\n",
            "Row(order_id=UUID('f316bd76-b23a-5eb8-9c18-2bac7785e90f'), country='United States of America', item_type='Personal Care', order_date=Date(16821), order_priority='H', region='North America', sales_channel='Online', ship_date=Date(16850), total_cost=241640.875, total_profit=106855.84375, total_revenue=348496.71875, unit_cost=56.66999816894531, unit_price=81.7300033569336, units_sold=4264)\n",
            "Row(order_id=UUID('73b3be89-f301-58fd-af67-4e7f3426b470'), country='Brunei', item_type='Cereal', order_date=Date(15853), order_priority='L', region='Asia', sales_channel='Offline', ship_date=Date(15902), total_cost=494438.40625, total_profit=374026.96875, total_revenue=868465.375, unit_cost=117.11000061035156, unit_price=205.6999969482422, units_sold=4222)\n",
            "Row(order_id=UUID('e7f50b54-82a7-5c74-bc7b-37a59764c6ad'), country='Democratic Republic of the Congo', item_type='Cosmetics', order_date=Date(15620), order_priority='M', region='Sub-Saharan Africa', sales_channel='Online', ship_date=Date(15638), total_cost=781300.125, total_profit=515872.28125, total_revenue=1297172.375, unit_cost=263.3299865722656, unit_price=437.20001220703125, units_sold=2967)\n",
            "Row(order_id=UUID('73995f7a-e1fe-5468-bf5d-3d234cce477d'), country='Dominica', item_type='Beverages', order_date=Date(15503), order_priority='L', region='Central America and the Caribbean', sales_channel='Online', ship_date=Date(15539), total_cost=200308.796875, total_profit=98673.65625, total_revenue=298982.4375, unit_cost=31.790000915527344, unit_price=47.45000076293945, units_sold=6301)\n",
            "Row(order_id=UUID('f2e22233-bf8c-54e4-83ea-0259fc994069'), country='China', item_type='Office Supplies', order_date=Date(16841), order_priority='M', region='Asia', sales_channel='Online', ship_date=Date(16889), total_cost=3040043.25, total_profit=731113.75, total_revenue=3771157.0, unit_cost=524.9600219726562, unit_price=651.2100219726562, units_sold=5791)\n",
            "Row(order_id=UUID('644907eb-02f7-5c56-a814-22141fbe27b4'), country='Netherlands', item_type='Fruits', order_date=Date(17124), order_priority='L', region='Europe', sales_channel='Online', ship_date=Date(17135), total_cost=68418.0390625, total_profit=23827.669921875, total_revenue=92245.7109375, unit_cost=6.920000076293945, unit_price=9.329999923706055, units_sold=9887)\n",
            "Row(order_id=UUID('215eab39-4978-5f9c-ab87-cb6edbf68cd2'), country='Tanzania', item_type='Beverages', order_date=Date(17135), order_priority='L', region='Sub-Saharan Africa', sales_channel='Online', ship_date=Date(17182), total_cost=46922.0390625, total_profit=23114.16015625, total_revenue=70036.203125, unit_cost=31.790000915527344, unit_price=47.45000076293945, units_sold=1476)\n",
            "Row(order_id=UUID('533f3d07-c65d-59ab-9277-503bc3f94973'), country='Dominican Republic', item_type='Baby Food', order_date=Date(15211), order_priority='H', region='Central America and the Caribbean', sales_channel='Offline', ship_date=Date(15241), total_cost=43681.078125, total_profit=26265.640625, total_revenue=69946.71875, unit_cost=159.4199981689453, unit_price=255.27999877929688, units_sold=274)\n",
            "Row(order_id=UUID('58d5f994-9e7e-5a4b-a6a2-6709f5a8e8f1'), country='Papua New Guinea', item_type='Clothes', order_date=Date(15145), order_priority='L', region='Australia and Oceania', sales_channel='Offline', ship_date=Date(15169), total_cost=325857.28125, total_profit=667716.5, total_revenue=993573.75, unit_cost=35.84000015258789, unit_price=109.27999877929688, units_sold=9092)\n",
            "Row(order_id=UUID('d0a967b7-6a2f-5a1c-ad2c-5b07fa5eaf42'), country='United Kingdom', item_type='Cosmetics', order_date=Date(16556), order_priority='L', region='Europe', sales_channel='Online', ship_date=Date(16571), total_cost=273336.53125, total_profit=180477.0625, total_revenue=453813.59375, unit_cost=263.3299865722656, unit_price=437.20001220703125, units_sold=1038)\n",
            "Row(order_id=UUID('960646c2-abb0-599b-8d3a-175c3d30f5e8'), country='Italy', item_type='Cereal', order_date=Date(15293), order_priority='M', region='Europe', sales_channel='Online', ship_date=Date(15336), total_cost=829138.8125, total_profit=627217.1875, total_revenue=1456356.0, unit_cost=117.11000061035156, unit_price=205.6999969482422, units_sold=7080)\n",
            "Row(order_id=UUID('b052d82f-8339-5109-b9d1-bc92b5d53c0c'), country='Greece', item_type='Cereal', order_date=Date(16669), order_priority='H', region='Europe', sales_channel='Online', ship_date=Date(16716), total_cost=1015812.125, total_profit=768429.6875, total_revenue=1784241.75, unit_cost=117.11000061035156, unit_price=205.6999969482422, units_sold=8674)\n",
            "Row(order_id=UUID('fa1b99c9-4146-5e84-952e-d067369e4896'), country='Rwanda', item_type='Fruits', order_date=Date(15588), order_priority='L', region='Sub-Saharan Africa', sales_channel='Online', ship_date=Date(15598), total_cost=41928.28125, total_profit=14602.1904296875, total_revenue=56530.46875, unit_cost=6.920000076293945, unit_price=9.329999923706055, units_sold=6059)\n",
            "Row(order_id=UUID('d252f6a7-53a4-5930-8aa9-fe1ff4318e4c'), country='Ghana', item_type='Office Supplies', order_date=Date(17248), order_priority='L', region='Sub-Saharan Africa', sales_channel='Online', ship_date=Date(17271), total_cost=470364.15625, total_profit=113120.0, total_revenue=583484.1875, unit_cost=524.9600219726562, unit_price=651.2100219726562, units_sold=896)\n",
            "Row(order_id=UUID('4a73ce56-8573-577c-b34f-271c7948e345'), country='Oman', item_type='Cosmetics', order_date=Date(14942), order_priority='H', region='Middle East and North Africa', sales_channel='Online', ship_date=Date(14971), total_cost=2090050.25, total_profit=1380006.25, total_revenue=3470056.5, unit_cost=263.3299865722656, unit_price=437.20001220703125, units_sold=7937)\n",
            "Row(order_id=UUID('413f32af-da50-574d-bb31-07792db32fdb'), country='Morocco', item_type='Clothes', order_date=Date(15962), order_priority='M', region='Middle East and North Africa', sales_channel='Online', ship_date=Date(15997), total_cost=165258.234375, total_profit=338631.84375, total_revenue=503890.09375, unit_cost=35.84000015258789, unit_price=109.27999877929688, units_sold=4611)\n",
            "Row(order_id=UUID('9e6fdf8e-24b7-57c5-a7f1-8cbd30a35cc2'), country='The Bahamas', item_type='Fruits', order_date=Date(14778), order_priority='L', region='Central America and the Caribbean', sales_channel='Offline', ship_date=Date(14790), total_cost=32800.80078125, total_profit=11423.400390625, total_revenue=44224.19921875, unit_cost=6.920000076293945, unit_price=9.329999923706055, units_sold=4740)\n",
            "Row(order_id=UUID('87a2c331-a701-5a25-82d3-1261016333f1'), country='Belize', item_type='Personal Care', order_date=Date(16600), order_priority='H', region='Central America and the Caribbean', sales_channel='Online', ship_date=Date(16649), total_cost=200215.109375, total_profit=88536.9765625, total_revenue=288752.09375, unit_cost=56.66999816894531, unit_price=81.7300033569336, units_sold=3533)\n",
            "Row(order_id=UUID('cae84c49-bae3-588b-bfc2-5bcebd0e70dd'), country='Taiwan', item_type='Cereal', order_date=Date(14710), order_priority='H', region='Asia', sales_channel='Online', ship_date=Date(14755), total_cost=1100482.625, total_profit=832480.25, total_revenue=1932962.875, unit_cost=117.11000061035156, unit_price=205.6999969482422, units_sold=9397)\n",
            "Row(order_id=UUID('059a497c-c10c-5294-8cfd-4fbc67b529cc'), country='Ethiopia', item_type='Cosmetics', order_date=Date(15162), order_priority='M', region='Sub-Saharan Africa', sales_channel='Online', ship_date=Date(15180), total_cost=174324.453125, total_profit=115101.9375, total_revenue=289426.40625, unit_cost=263.3299865722656, unit_price=437.20001220703125, units_sold=662)\n",
            "Row(order_id=UUID('dcfbe9d5-6c46-573c-a6f5-76d987b23d7e'), country='Estonia', item_type='Household', order_date=Date(15218), order_priority='H', region='Europe', sales_channel='Offline', ship_date=Date(15268), total_cost=5013339.0, total_profit=1653322.5, total_revenue=6666661.5, unit_cost=502.5400085449219, unit_price=668.27001953125, units_sold=9976)\n",
            "Row(order_id=UUID('5bef695f-e12b-5e29-a8f3-2a75de6fe116'), country='Zimbabwe', item_type='Office Supplies', order_date=Date(15061), order_priority='C', region='Sub-Saharan Africa', sales_channel='Offline', ship_date=Date(15072), total_cost=5051690.0, total_profit=1214903.75, total_revenue=6266594.0, unit_cost=524.9600219726562, unit_price=651.2100219726562, units_sold=9623)\n",
            "Row(order_id=UUID('5681dbbb-1807-5e9c-a733-6868ae8a7068'), country='Iceland', item_type='Baby Food', order_date=Date(14884), order_priority='M', region='Europe', sales_channel='Offline', ship_date=Date(14916), total_cost=392492.03125, total_profit=236007.3125, total_revenue=628499.375, unit_cost=159.4199981689453, unit_price=255.27999877929688, units_sold=2462)\n",
            "Row(order_id=UUID('be760d51-89d9-5748-a52f-5c0c8b4f8a84'), country='New Zealand', item_type='Beverages', order_date=Date(15624), order_priority='M', region='Australia and Oceania', sales_channel='Online', ship_date=Date(15648), total_cost=184000.515625, total_profit=90640.078125, total_revenue=274640.59375, unit_cost=31.790000915527344, unit_price=47.45000076293945, units_sold=5788)\n",
            "Row(order_id=UUID('8604dbea-5ea4-5143-b356-ab7034ffa107'), country='Papua New Guinea', item_type='Meat', order_date=Date(16570), order_priority='M', region='Australia and Oceania', sales_channel='Offline', ship_date=Date(16590), total_cost=131288.40625, total_profit=20592.0, total_revenue=151880.40625, unit_cost=364.69000244140625, unit_price=421.8900146484375, units_sold=360)\n",
            "Row(order_id=UUID('d0170d93-f42c-522f-8a88-3816c68965b4'), country='Indonesia', item_type='Personal Care', order_date=Date(15635), order_priority='L', region='Asia', sales_channel='Offline', ship_date=Date(15644), total_cost=527371.0, total_profit=233208.359375, total_revenue=760579.375, unit_cost=56.66999816894531, unit_price=81.7300033569336, units_sold=9306)\n",
            "Row(order_id=UUID('8989f25d-9104-5a36-b007-2180870f39b2'), country='Slovakia', item_type='Beverages', order_date=Date(17100), order_priority='L', region='Europe', sales_channel='Offline', ship_date=Date(17139), total_cost=126301.671875, total_profit=62217.1796875, total_revenue=188518.84375, unit_cost=31.790000915527344, unit_price=47.45000076293945, units_sold=3973)\n",
            "Row(order_id=UUID('a4414712-7e3e-5d42-b675-4d7dfca4eb4b'), country='Solomon Islands', item_type='Household', order_date=Date(14960), order_priority='M', region='Australia and Oceania', sales_channel='Online', ship_date=Date(14971), total_cost=2123231.5, total_profit=700209.25, total_revenue=2823440.75, unit_cost=502.5400085449219, unit_price=668.27001953125, units_sold=4225)\n",
            "Row(order_id=UUID('8919366b-2179-567c-98bb-1c32469e0054'), country='Uganda', item_type='Personal Care', order_date=Date(16240), order_priority='M', region='Sub-Saharan Africa', sales_channel='Online', ship_date=Date(16272), total_cost=25558.169921875, total_profit=11302.0595703125, total_revenue=36860.23046875, unit_cost=56.66999816894531, unit_price=81.7300033569336, units_sold=451)\n",
            "Row(order_id=UUID('49d90f89-95ce-5a10-ab4d-c7d9248538f9'), country='Japan', item_type='Household', order_date=Date(16267), order_priority='M', region='Asia', sales_channel='Offline', ship_date=Date(16275), total_cost=4217818.0, total_profit=1390971.875, total_revenue=5608790.0, unit_cost=502.5400085449219, unit_price=668.27001953125, units_sold=8393)\n",
            "Row(order_id=UUID('88c4d2a0-8b80-5018-a5fa-d257e4528815'), country='Tanzania', item_type='Cosmetics', order_date=Date(16944), order_priority='L', region='Sub-Saharan Africa', sales_channel='Offline', ship_date=Date(16945), total_cost=2045547.5, total_profit=1350622.125, total_revenue=3396169.5, unit_cost=263.3299865722656, unit_price=437.20001220703125, units_sold=7768)\n",
            "Row(order_id=UUID('0dad259a-e8d9-5073-bf1c-4ee60cd12e3d'), country='Italy', item_type='Cereal', order_date=Date(16769), order_priority='C', region='Europe', sales_channel='Online', ship_date=Date(16774), total_cost=366085.875, total_profit=276932.34375, total_revenue=643018.1875, unit_cost=117.11000061035156, unit_price=205.6999969482422, units_sold=3126)\n",
            "Row(order_id=UUID('17952e30-7104-51a6-801e-a703c56328d9'), country='Tanzania', item_type='Fruits', order_date=Date(16363), order_priority='H', region='Sub-Saharan Africa', sales_channel='Offline', ship_date=Date(16403), total_cost=66425.078125, total_profit=23133.58984375, total_revenue=89558.671875, unit_cost=6.920000076293945, unit_price=9.329999923706055, units_sold=9599)\n"
          ]
        }
      ]
    },
    {
      "cell_type": "code",
      "source": [
        "# Step 1: Create the gold table for total sales by region and item type\n",
        "query_gold_create_1 = \"\"\"\n",
        "CREATE TABLE IF NOT EXISTS learning.gold_sales_by_region_item (\n",
        "    region TEXT,\n",
        "    item_type TEXT,\n",
        "    total_revenue DECIMAL,\n",
        "    total_units_sold INT,\n",
        "    PRIMARY KEY (region, item_type)\n",
        ")\n",
        "\"\"\"\n",
        "session.execute(query_gold_create_1)\n"
      ],
      "metadata": {
        "colab": {
          "base_uri": "https://localhost:8080/"
        },
        "id": "0uy0wYAiwMXu",
        "outputId": "de443d36-fac8-45ed-bd0f-21cfe53c9f21"
      },
      "execution_count": 45,
      "outputs": [
        {
          "output_type": "execute_result",
          "data": {
            "text/plain": [
              "<cassandra.cluster.ResultSet at 0x7f73ca55cc10>"
            ]
          },
          "metadata": {},
          "execution_count": 45
        }
      ]
    },
    {
      "cell_type": "code",
      "source": [
        "from collections import defaultdict\n",
        "\n",
        "# Fetch all relevant data from the silver_sales table\n",
        "fetch_query = \"SELECT region, item_type, total_revenue, units_sold FROM learning.silver_sales\"\n",
        "rows = session.execute(fetch_query)\n",
        "\n",
        "# Perform aggregation in Python\n",
        "aggregated_data = defaultdict(lambda: defaultdict(lambda: {'total_revenue': 0, 'total_units_sold': 0}))\n",
        "\n",
        "for row in rows:\n",
        "    aggregated_data[row.region][row.item_type]['total_revenue'] += row.total_revenue\n",
        "    aggregated_data[row.region][row.item_type]['total_units_sold'] += row.units_sold\n",
        "\n",
        "# Insert aggregated data into the gold table\n",
        "for region, items in aggregated_data.items():\n",
        "    for item_type, totals in items.items():\n",
        "        session.execute(\"\"\"\n",
        "        INSERT INTO learning.gold_sales_by_region_item (region, item_type, total_revenue, total_units_sold)\n",
        "        VALUES (%s, %s, %s, %s)\n",
        "        \"\"\", (region, item_type, totals['total_revenue'], totals['total_units_sold']))\n",
        "\n",
        "print(\"Gold table 'gold_sales_by_region_item' populated successfully!\")"
      ],
      "metadata": {
        "colab": {
          "base_uri": "https://localhost:8080/"
        },
        "id": "F6UAX3sZwoRl",
        "outputId": "9de61c29-b3b9-4b7e-cce8-7739801bf3c5"
      },
      "execution_count": 49,
      "outputs": [
        {
          "output_type": "stream",
          "name": "stdout",
          "text": [
            "Gold table 'gold_sales_by_region_item' populated successfully!\n"
          ]
        }
      ]
    },
    {
      "cell_type": "code",
      "source": [
        "query = \"SELECT * FROM learning.gold_sales_by_region_item ;\"\n",
        "rows = session.execute(query)\n",
        "\n",
        "for row in rows:\n",
        "    print(row)"
      ],
      "metadata": {
        "colab": {
          "base_uri": "https://localhost:8080/"
        },
        "id": "glt8U-dKxUGw",
        "outputId": "b7647ab9-4ca8-42ec-bb00-25a09020d10c"
      },
      "execution_count": 50,
      "outputs": [
        {
          "output_type": "stream",
          "name": "stdout",
          "text": [
            "Row(region='Australia and Oceania', item_type='Baby Food', total_revenue=Decimal('1411953.625'), total_units_sold=5531)\n",
            "Row(region='Australia and Oceania', item_type='Beverages', total_revenue=Decimal('274640.59375'), total_units_sold=5788)\n",
            "Row(region='Australia and Oceania', item_type='Cereal', total_revenue=Decimal('1221858.05078125'), total_units_sold=5940)\n",
            "Row(region='Australia and Oceania', item_type='Clothes', total_revenue=Decimal('993573.75'), total_units_sold=9092)\n",
            "Row(region='Australia and Oceania', item_type='Fruits', total_revenue=Decimal('53507.55078125'), total_units_sold=5735)\n",
            "Row(region='Australia and Oceania', item_type='Household', total_revenue=Decimal('6603844.25'), total_units_sold=9882)\n",
            "Row(region='Australia and Oceania', item_type='Meat', total_revenue=Decimal('151880.40625'), total_units_sold=360)\n",
            "Row(region='Europe', item_type='Baby Food', total_revenue=Decimal('2642658.625'), total_units_sold=10352)\n",
            "Row(region='Europe', item_type='Beverages', total_revenue=Decimal('647597.59375'), total_units_sold=13648)\n",
            "Row(region='Europe', item_type='Cereal', total_revenue=Decimal('5392836.8125'), total_units_sold=26217)\n",
            "Row(region='Europe', item_type='Clothes', total_revenue=Decimal('1034335.203125'), total_units_sold=9465)\n",
            "Row(region='Europe', item_type='Cosmetics', total_revenue=Decimal('6974651.59375'), total_units_sold=15953)\n",
            "Row(region='Europe', item_type='Fruits', total_revenue=Decimal('127102.58984375'), total_units_sold=13623)\n",
            "Row(region='Europe', item_type='Household', total_revenue=Decimal('12111725.5'), total_units_sold=18124)\n",
            "Row(region='Europe', item_type='Office Supplies', total_revenue=Decimal('5569148.0'), total_units_sold=8552)\n",
            "Row(region='Europe', item_type='Personal Care', total_revenue=Decimal('357160.09375'), total_units_sold=4370)\n",
            "Row(region='Europe', item_type='Vegetables', total_revenue=Decimal('107533.8828125'), total_units_sold=698)\n",
            "Row(region='Middle East and North Africa', item_type='Beverages', total_revenue=Decimal('223442.046875'), total_units_sold=4709)\n",
            "Row(region='Middle East and North Africa', item_type='Clothes', total_revenue=Decimal('634151.8515625'), total_units_sold=5803)\n",
            "Row(region='Middle East and North Africa', item_type='Cosmetics', total_revenue=Decimal('8768483.5'), total_units_sold=20056)\n",
            "Row(region='Middle East and North Africa', item_type='Household', total_revenue=Decimal('979683.8125'), total_units_sold=1466)\n",
            "Row(region='Middle East and North Africa', item_type='Meat', total_revenue=Decimal('7905796.75'), total_units_sold=18739)\n",
            "Row(region='Middle East and North Africa', item_type='Office Supplies', total_revenue=Decimal('6253569.5'), total_units_sold=9603)\n",
            "Row(region='Central America and the Caribbean', item_type='Baby Food', total_revenue=Decimal('807961.21875'), total_units_sold=3165)\n",
            "Row(region='Central America and the Caribbean', item_type='Beverages', total_revenue=Decimal('298982.4375'), total_units_sold=6301)\n",
            "Row(region='Central America and the Caribbean', item_type='Fruits', total_revenue=Decimal('77634.9296875'), total_units_sold=8321)\n",
            "Row(region='Central America and the Caribbean', item_type='Household', total_revenue=Decimal('9913785.5'), total_units_sold=14835)\n",
            "Row(region='Central America and the Caribbean', item_type='Office Supplies', total_revenue=Decimal('5436952.125'), total_units_sold=8349)\n",
            "Row(region='Central America and the Caribbean', item_type='Personal Care', total_revenue=Decimal('1035519.09375'), total_units_sold=12670)\n",
            "Row(region='Asia', item_type='Beverages', total_revenue=Decimal('434357.3125'), total_units_sold=9154)\n",
            "Row(region='Asia', item_type='Cereal', total_revenue=Decimal('2801428.25'), total_units_sold=13619)\n",
            "Row(region='Asia', item_type='Fruits', total_revenue=Decimal('102331.439453125'), total_units_sold=10968)\n",
            "Row(region='Asia', item_type='Household', total_revenue=Decimal('6025122.21875'), total_units_sold=9016)\n",
            "Row(region='Asia', item_type='Meat', total_revenue=Decimal('11072081.125'), total_units_sold=26244)\n",
            "Row(region='Asia', item_type='Office Supplies', total_revenue=Decimal('3771157.0'), total_units_sold=5791)\n",
            "Row(region='Asia', item_type='Personal Care', total_revenue=Decimal('1413111.6875'), total_units_sold=17290)\n",
            "Row(region='Asia', item_type='Snacks', total_revenue=Decimal('2193642.71875'), total_units_sold=14377)\n",
            "Row(region='Asia', item_type='Vegetables', total_revenue=Decimal('1027580.1875'), total_units_sold=6670)\n",
            "Row(region='Sub-Saharan Africa', item_type='Baby Food', total_revenue=Decimal('337990.71875'), total_units_sold=1324)\n",
            "Row(region='Sub-Saharan Africa', item_type='Beverages', total_revenue=Decimal('266004.697265625'), total_units_sold=5606)\n",
            "Row(region='Sub-Saharan Africa', item_type='Clothes', total_revenue=Decimal('1725312.703125'), total_units_sold=15788)\n",
            "Row(region='Sub-Saharan Africa', item_type='Cosmetics', total_revenue=Decimal('9720704.78125'), total_units_sold=22234)\n",
            "Row(region='Sub-Saharan Africa', item_type='Fruits', total_revenue=Decimal('254457.0927734375'), total_units_sold=27273)\n",
            "Row(region='Sub-Saharan Africa', item_type='Household', total_revenue=Decimal('2884921.5'), total_units_sold=4317)\n",
            "Row(region='Sub-Saharan Africa', item_type='Meat', total_revenue=Decimal('2149107.75'), total_units_sold=5094)\n",
            "Row(region='Sub-Saharan Africa', item_type='Office Supplies', total_revenue=Decimal('6850078.1875'), total_units_sold=10519)\n",
            "Row(region='Sub-Saharan Africa', item_type='Personal Care', total_revenue=Decimal('36860.23046875'), total_units_sold=451)\n",
            "Row(region='North America', item_type='Cosmetics', total_revenue=Decimal('3263260.75'), total_units_sold=7464)\n",
            "Row(region='North America', item_type='Personal Care', total_revenue=Decimal('348496.71875'), total_units_sold=4264)\n"
          ]
        }
      ]
    },
    {
      "cell_type": "code",
      "source": [
        "# Step 1: Create the gold table for total sales by country and item type\n",
        "query_gold_create_2 = \"\"\"\n",
        "CREATE TABLE IF NOT EXISTS learning.gold_sales_by_country_item (\n",
        "    country TEXT,\n",
        "    item_type TEXT,\n",
        "    total_revenue DECIMAL,\n",
        "    total_units_sold INT,\n",
        "    PRIMARY KEY (country, item_type)\n",
        ")\n",
        "\"\"\"\n",
        "session.execute(query_gold_create_2)\n"
      ],
      "metadata": {
        "colab": {
          "base_uri": "https://localhost:8080/"
        },
        "id": "FOxDNNk9xohc",
        "outputId": "31302902-e80a-403d-f56f-0ba87656becb"
      },
      "execution_count": 51,
      "outputs": [
        {
          "output_type": "execute_result",
          "data": {
            "text/plain": [
              "<cassandra.cluster.ResultSet at 0x7f73c8385930>"
            ]
          },
          "metadata": {},
          "execution_count": 51
        }
      ]
    },
    {
      "cell_type": "code",
      "source": [
        "from collections import defaultdict\n",
        "\n",
        "# Step 2: Fetch all relevant data from the silver_sales table\n",
        "fetch_query_2 = \"SELECT country, item_type, total_revenue, units_sold FROM learning.silver_sales\"\n",
        "rows_2 = session.execute(fetch_query_2)\n",
        "\n",
        "# Step 3: Perform aggregation in Python for the second gold table\n",
        "aggregated_data_2 = defaultdict(lambda: defaultdict(lambda: {'total_revenue': 0, 'total_units_sold': 0}))\n",
        "\n",
        "for row in rows_2:\n",
        "    aggregated_data_2[row.country][row.item_type]['total_revenue'] += row.total_revenue\n",
        "    aggregated_data_2[row.country][row.item_type]['total_units_sold'] += row.units_sold\n",
        "\n",
        "# Step 4: Insert aggregated data into the second gold table\n",
        "for country, items in aggregated_data_2.items():\n",
        "    for item_type, totals in items.items():\n",
        "        session.execute(\"\"\"\n",
        "        INSERT INTO learning.gold_sales_by_country_item (country, item_type, total_revenue, total_units_sold)\n",
        "        VALUES (%s, %s, %s, %s)\n",
        "        \"\"\", (country, item_type, totals['total_revenue'], totals['total_units_sold']))\n",
        "\n",
        "print(\"Gold table 'gold_sales_by_country_item' populated successfully!\")\n"
      ],
      "metadata": {
        "colab": {
          "base_uri": "https://localhost:8080/"
        },
        "id": "IzfHIq3HxqIt",
        "outputId": "03d23197-5d77-4c3c-84f7-c87865ec18e3"
      },
      "execution_count": 52,
      "outputs": [
        {
          "output_type": "stream",
          "name": "stdout",
          "text": [
            "Gold table 'gold_sales_by_country_item' populated successfully!\n"
          ]
        }
      ]
    },
    {
      "cell_type": "code",
      "source": [
        "query = \"SELECT * FROM learning.gold_sales_by_country_item ;\"\n",
        "rows = session.execute(query)\n",
        "\n",
        "for row in rows:\n",
        "    print(row)"
      ],
      "metadata": {
        "colab": {
          "base_uri": "https://localhost:8080/"
        },
        "id": "jZ-EvGImx4vu",
        "outputId": "d1d2dd88-190d-44d0-c64b-f89977e202cd"
      },
      "execution_count": 53,
      "outputs": [
        {
          "output_type": "stream",
          "name": "stdout",
          "text": [
            "Row(country='Malaysia', item_type='Beverages', total_revenue=Decimal('434357.3125'), total_units_sold=9154)\n",
            "Row(country='Israel', item_type='Beverages', total_revenue=Decimal('223442.046875'), total_units_sold=4709)\n",
            "Row(country='Serbia', item_type='Clothes', total_revenue=Decimal('802989.4375'), total_units_sold=7348)\n",
            "Row(country='Djibouti', item_type='Clothes', total_revenue=Decimal('61415.359375'), total_units_sold=562)\n",
            "Row(country='Egypt', item_type='Clothes', total_revenue=Decimal('130261.7578125'), total_units_sold=1192)\n",
            "Row(country='Nicaragua', item_type='Baby Food', total_revenue=Decimal('738014.5'), total_units_sold=2891)\n",
            "Row(country='Nicaragua', item_type='Household', total_revenue=Decimal('5206491.5'), total_units_sold=7791)\n",
            "Row(country='Romania', item_type='Beverages', total_revenue=Decimal('217368.453125'), total_units_sold=4581)\n",
            "Row(country='Romania', item_type='Cereal', total_revenue=Decimal('1509220.875'), total_units_sold=7337)\n",
            "Row(country='Sao Tome and Principe', item_type='Clothes', total_revenue=Decimal('301612.8125'), total_units_sold=2760)\n",
            "Row(country='Liberia', item_type='Baby Food', total_revenue=Decimal('337990.71875'), total_units_sold=1324)\n",
            "Row(country='Vanuatu', item_type='Cereal', total_revenue=Decimal('1168581.75'), total_units_sold=5681)\n",
            "Row(country='Vanuatu', item_type='Fruits', total_revenue=Decimal('53507.55078125'), total_units_sold=5735)\n",
            "Row(country='Morocco', item_type='Clothes', total_revenue=Decimal('503890.09375'), total_units_sold=4611)\n",
            "Row(country='Lebanon', item_type='Meat', total_revenue=Decimal('3699975.25'), total_units_sold=8770)\n",
            "Row(country='Madagascar', item_type='Clothes', total_revenue=Decimal('339860.8125'), total_units_sold=3110)\n",
            "Row(country='Mali', item_type='Household', total_revenue=Decimal('2884921.5'), total_units_sold=4317)\n",
            "Row(country='Togo', item_type='Cosmetics', total_revenue=Decimal('2101183.25'), total_units_sold=4806)\n",
            "Row(country='Sri Lanka', item_type='Fruits', total_revenue=Decimal('12866.0703125'), total_units_sold=1379)\n",
            "Row(country='Canada', item_type='Cosmetics', total_revenue=Decimal('3263260.75'), total_units_sold=7464)\n",
            "Row(country='Vietnam', item_type='Personal Care', total_revenue=Decimal('652532.3125'), total_units_sold=7984)\n",
            "Row(country='Mauritius ', item_type='Clothes', total_revenue=Decimal('603225.625'), total_units_sold=5520)\n",
            "Row(country='Tanzania', item_type='Beverages', total_revenue=Decimal('70036.203125'), total_units_sold=1476)\n",
            "Row(country='Tanzania', item_type='Cosmetics', total_revenue=Decimal('3396169.5'), total_units_sold=7768)\n",
            "Row(country='Tanzania', item_type='Fruits', total_revenue=Decimal('89558.671875'), total_units_sold=9599)\n",
            "Row(country='Tunisia ', item_type='Cosmetics', total_revenue=Decimal('1071140.0'), total_units_sold=2450)\n",
            "Row(country='Brunei', item_type='Cereal', total_revenue=Decimal('868465.375'), total_units_sold=4222)\n",
            "Row(country='Seychelles ', item_type='Beverages', total_revenue=Decimal('28327.650390625'), total_units_sold=597)\n",
            "Row(country='Ghana', item_type='Clothes', total_revenue=Decimal('419198.09375'), total_units_sold=3836)\n",
            "Row(country='Ghana', item_type='Fruits', total_revenue=Decimal('12343.58984375'), total_units_sold=1323)\n",
            "Row(country='Ghana', item_type='Office Supplies', total_revenue=Decimal('583484.1875'), total_units_sold=896)\n",
            "Row(country='Turkmenistan', item_type='Meat', total_revenue=Decimal('2196359.25'), total_units_sold=5206)\n",
            "Row(country='Turkmenistan', item_type='Vegetables', total_revenue=Decimal('1027580.1875'), total_units_sold=6670)\n",
            "Row(country='Belgium', item_type='Personal Care', total_revenue=Decimal('231050.703125'), total_units_sold=2827)\n",
            "Row(country='Iceland', item_type='Baby Food', total_revenue=Decimal('628499.375'), total_units_sold=2462)\n",
            "Row(country='Sweden', item_type='Beverages', total_revenue=Decimal('117913.25'), total_units_sold=2485)\n",
            "Row(country='Dominican Republic', item_type='Baby Food', total_revenue=Decimal('69946.71875'), total_units_sold=274)\n",
            "Row(country='United Kingdom', item_type='Cosmetics', total_revenue=Decimal('453813.59375'), total_units_sold=1038)\n",
            "Row(country='United States of America', item_type='Personal Care', total_revenue=Decimal('348496.71875'), total_units_sold=4264)\n",
            "Row(country='China', item_type='Office Supplies', total_revenue=Decimal('3771157.0'), total_units_sold=5791)\n",
            "Row(country='Greece', item_type='Cereal', total_revenue=Decimal('1784241.75'), total_units_sold=8674)\n",
            "Row(country='Democratic Republic of the Congo', item_type='Cosmetics', total_revenue=Decimal('1297172.375'), total_units_sold=2967)\n",
            "Row(country='Switzerland', item_type='Office Supplies', total_revenue=Decimal('3672173.25'), total_units_sold=5639)\n",
            "Row(country='South Africa', item_type='Fruits', total_revenue=Decimal('14862.6904296875'), total_units_sold=1593)\n",
            "Row(country='Kazakhstan', item_type='Snacks', total_revenue=Decimal('206288.15625'), total_units_sold=1352)\n",
            "Row(country='Papua New Guinea', item_type='Clothes', total_revenue=Decimal('993573.75'), total_units_sold=9092)\n",
            "Row(country='Papua New Guinea', item_type='Meat', total_revenue=Decimal('151880.40625'), total_units_sold=360)\n",
            "Row(country='India', item_type='Snacks', total_revenue=Decimal('816150.4375'), total_units_sold=5349)\n",
            "Row(country='Thailand', item_type='Fruits', total_revenue=Decimal('14508.150390625'), total_units_sold=1555)\n",
            "Row(country='Thailand', item_type='Meat', total_revenue=Decimal('1856737.875'), total_units_sold=4401)\n",
            "Row(country='Haiti', item_type='Office Supplies', total_revenue=Decimal('1336282.875'), total_units_sold=2052)\n",
            "Row(country='Estonia', item_type='Household', total_revenue=Decimal('6666661.5'), total_units_sold=9976)\n",
            "Row(country='Kuwait', item_type='Household', total_revenue=Decimal('979683.8125'), total_units_sold=1466)\n",
            "Row(country='Czech Republic', item_type='Cosmetics', total_revenue=Decimal('4003440.5'), total_units_sold=9157)\n",
            "Row(country='Dominica', item_type='Beverages', total_revenue=Decimal('298982.4375'), total_units_sold=6301)\n",
            "Row(country='Dominica', item_type='Household', total_revenue=Decimal('4707294.0'), total_units_sold=7044)\n",
            "Row(country='Nepal', item_type='Meat', total_revenue=Decimal('4006267.5'), total_units_sold=9496)\n",
            "Row(country='Taiwan', item_type='Cereal', total_revenue=Decimal('1932962.875'), total_units_sold=9397)\n",
            "Row(country='Taiwan', item_type='Fruits', total_revenue=Decimal('74957.21875'), total_units_sold=8034)\n",
            "Row(country='Antigua and Barbuda ', item_type='Office Supplies', total_revenue=Decimal('4100669.25'), total_units_sold=6297)\n",
            "Row(country='Algeria', item_type='Cosmetics', total_revenue=Decimal('4227287.0'), total_units_sold=9669)\n",
            "Row(country='Uganda', item_type='Cosmetics', total_revenue=Decimal('2636753.25'), total_units_sold=6031)\n",
            "Row(country='Uganda', item_type='Personal Care', total_revenue=Decimal('36860.23046875'), total_units_sold=451)\n",
            "Row(country='France', item_type='Cosmetics', total_revenue=Decimal('2517397.5'), total_units_sold=5758)\n",
            "Row(country='Finland', item_type='Household', total_revenue=Decimal('5445064.0'), total_units_sold=8148)\n",
            "Row(country='Finland', item_type='Vegetables', total_revenue=Decimal('107533.8828125'), total_units_sold=698)\n",
            "Row(country='Monaco', item_type='Beverages', total_revenue=Decimal('123797.046875'), total_units_sold=2609)\n",
            "Row(country='Indonesia', item_type='Household', total_revenue=Decimal('416332.21875'), total_units_sold=623)\n",
            "Row(country='Indonesia', item_type='Personal Care', total_revenue=Decimal('760579.375'), total_units_sold=9306)\n",
            "Row(country='Netherlands', item_type='Fruits', total_revenue=Decimal('92245.7109375'), total_units_sold=9887)\n",
            "Row(country='Burundi', item_type='Beverages', total_revenue=Decimal('167640.84375'), total_units_sold=3533)\n",
            "Row(country='South Korea', item_type='Meat', total_revenue=Decimal('3012716.5'), total_units_sold=7141)\n",
            "Row(country='The Gambia', item_type='Fruits', total_revenue=Decimal('81161.671875'), total_units_sold=8699)\n",
            "Row(country='Pakistan', item_type='Meat', total_revenue=Decimal('4205821.5'), total_units_sold=9969)\n",
            "Row(country='United Arab Emirates', item_type='Office Supplies', total_revenue=Decimal('6253569.5'), total_units_sold=9603)\n",
            "Row(country='Saint Lucia', item_type='Fruits', total_revenue=Decimal('33410.73046875'), total_units_sold=3581)\n",
            "Row(country='Samoa ', item_type='Household', total_revenue=Decimal('3780403.5'), total_units_sold=5657)\n",
            "Row(country='Rwanda', item_type='Fruits', total_revenue=Decimal('56530.46875'), total_units_sold=6059)\n",
            "Row(country='Tonga', item_type='Baby Food', total_revenue=Decimal('1411953.625'), total_units_sold=5531)\n",
            "Row(country='New Zealand', item_type='Beverages', total_revenue=Decimal('274640.59375'), total_units_sold=5788)\n",
            "Row(country='Solomon Islands', item_type='Household', total_revenue=Decimal('2823440.75'), total_units_sold=4225)\n",
            "Row(country='Moldova ', item_type='Fruits', total_revenue=Decimal('34856.87890625'), total_units_sold=3736)\n",
            "Row(country='Japan', item_type='Household', total_revenue=Decimal('5608790.0'), total_units_sold=8393)\n",
            "Row(country='Belize', item_type='Personal Care', total_revenue=Decimal('288752.09375'), total_units_sold=3533)\n",
            "Row(country='Montenegro', item_type='Clothes', total_revenue=Decimal('231345.765625'), total_units_sold=2117)\n",
            "Row(country='Slovakia', item_type='Beverages', total_revenue=Decimal('188518.84375'), total_units_sold=3973)\n",
            "Row(country='The Bahamas', item_type='Fruits', total_revenue=Decimal('44224.19921875'), total_units_sold=4740)\n",
            "Row(country='The Bahamas', item_type='Personal Care', total_revenue=Decimal('746767.0'), total_units_sold=9137)\n",
            "Row(country='Albania', item_type='Baby Food', total_revenue=Decimal('2014159.25'), total_units_sold=7890)\n",
            "Row(country='Albania', item_type='Personal Care', total_revenue=Decimal('126109.390625'), total_units_sold=1543)\n",
            "Row(country='Zimbabwe', item_type='Office Supplies', total_revenue=Decimal('6266594.0'), total_units_sold=9623)\n",
            "Row(country='Ethiopia', item_type='Cosmetics', total_revenue=Decimal('289426.40625'), total_units_sold=662)\n",
            "Row(country='Malawi', item_type='Meat', total_revenue=Decimal('2149107.75'), total_units_sold=5094)\n",
            "Row(country='Italy', item_type='Cereal', total_revenue=Decimal('2099374.1875'), total_units_sold=10206)\n",
            "Row(country='Italy', item_type='Office Supplies', total_revenue=Decimal('1896974.75'), total_units_sold=2913)\n",
            "Row(country='East Timor', item_type='Cereal', total_revenue=Decimal('53276.30078125'), total_units_sold=259)\n",
            "Row(country='Singapore', item_type='Snacks', total_revenue=Decimal('1171204.125'), total_units_sold=7676)\n",
            "Row(country='Oman', item_type='Cosmetics', total_revenue=Decimal('3470056.5'), total_units_sold=7937)\n"
          ]
        }
      ]
    },
    {
      "cell_type": "code",
      "source": [
        "# Step 1: Create the gold table for total sales by sales channel and item type\n",
        "query_gold_create_3 = \"\"\"\n",
        "CREATE TABLE IF NOT EXISTS learning.gold_sales_by_sales_channel_item (\n",
        "    sales_channel TEXT,\n",
        "    item_type TEXT,\n",
        "    total_revenue DECIMAL,\n",
        "    total_units_sold INT,\n",
        "    PRIMARY KEY (sales_channel, item_type)\n",
        ")\n",
        "\"\"\"\n",
        "session.execute(query_gold_create_3)\n"
      ],
      "metadata": {
        "colab": {
          "base_uri": "https://localhost:8080/"
        },
        "id": "H0J7cePTyBDh",
        "outputId": "209a4829-f5c0-44f5-9eb2-cac020a802f4"
      },
      "execution_count": 54,
      "outputs": [
        {
          "output_type": "execute_result",
          "data": {
            "text/plain": [
              "<cassandra.cluster.ResultSet at 0x7f73c8313010>"
            ]
          },
          "metadata": {},
          "execution_count": 54
        }
      ]
    },
    {
      "cell_type": "code",
      "source": [
        "from collections import defaultdict\n",
        "\n",
        "# Step 2: Fetch all relevant data from the silver_sales table\n",
        "fetch_query_3 = \"SELECT sales_channel, item_type, total_revenue, units_sold FROM learning.silver_sales\"\n",
        "rows_3 = session.execute(fetch_query_3)\n",
        "\n",
        "# Step 3: Perform aggregation in Python for the third gold table\n",
        "aggregated_data_3 = defaultdict(lambda: defaultdict(lambda: {'total_revenue': 0, 'total_units_sold': 0}))\n",
        "\n",
        "for row in rows_3:\n",
        "    aggregated_data_3[row.sales_channel][row.item_type]['total_revenue'] += row.total_revenue\n",
        "    aggregated_data_3[row.sales_channel][row.item_type]['total_units_sold'] += row.units_sold\n",
        "\n",
        "# Step 4: Insert aggregated data into the third gold table\n",
        "for sales_channel, items in aggregated_data_3.items():\n",
        "    for item_type, totals in items.items():\n",
        "        session.execute(\"\"\"\n",
        "        INSERT INTO learning.gold_sales_by_sales_channel_item (sales_channel, item_type, total_revenue, total_units_sold)\n",
        "        VALUES (%s, %s, %s, %s)\n",
        "        \"\"\", (sales_channel, item_type, totals['total_revenue'], totals['total_units_sold']))\n",
        "\n",
        "print(\"Gold table 'gold_sales_by_sales_channel_item' populated successfully!\")\n"
      ],
      "metadata": {
        "colab": {
          "base_uri": "https://localhost:8080/"
        },
        "id": "bzO8Yn4pyEBv",
        "outputId": "301c7d61-2ef1-4583-bdc7-06020d2afdaf"
      },
      "execution_count": 55,
      "outputs": [
        {
          "output_type": "stream",
          "name": "stdout",
          "text": [
            "Gold table 'gold_sales_by_sales_channel_item' populated successfully!\n"
          ]
        }
      ]
    },
    {
      "cell_type": "code",
      "source": [
        "query = \"SELECT * FROM learning.gold_sales_by_sales_channel_item ;\"\n",
        "rows = session.execute(query)\n",
        "\n",
        "for row in rows:\n",
        "    print(row)"
      ],
      "metadata": {
        "colab": {
          "base_uri": "https://localhost:8080/"
        },
        "id": "3kbC0v9uyLBO",
        "outputId": "73c4488d-3698-4944-f30b-07e53eceb861"
      },
      "execution_count": 56,
      "outputs": [
        {
          "output_type": "stream",
          "name": "stdout",
          "text": [
            "Row(sales_channel='Online', item_type='Baby Food', total_revenue=Decimal('2149968.125'), total_units_sold=8422)\n",
            "Row(sales_channel='Online', item_type='Beverages', total_revenue=Decimal('1609266.744140625'), total_units_sold=33915)\n",
            "Row(sales_channel='Online', item_type='Cereal', total_revenue=Decimal('7325799.6875'), total_units_sold=35614)\n",
            "Row(sales_channel='Online', item_type='Clothes', total_revenue=Decimal('1393210.7578125'), total_units_sold=12749)\n",
            "Row(sales_channel='Online', item_type='Cosmetics', total_revenue=Decimal('24259791.125'), total_units_sold=55489)\n",
            "Row(sales_channel='Online', item_type='Fruits', total_revenue=Decimal('331168.3515625'), total_units_sold=35495)\n",
            "Row(sales_channel='Online', item_type='Household', total_revenue=Decimal('12226667.96875'), total_units_sold=18296)\n",
            "Row(sales_channel='Online', item_type='Meat', total_revenue=Decimal('15965161.375'), total_units_sold=37842)\n",
            "Row(sales_channel='Online', item_type='Office Supplies', total_revenue=Decimal('13841468.3125'), total_units_sold=21255)\n",
            "Row(sales_channel='Online', item_type='Personal Care', total_revenue=Decimal('2304459.05859375'), total_units_sold=28196)\n",
            "Row(sales_channel='Online', item_type='Snacks', total_revenue=Decimal('2193642.71875'), total_units_sold=14377)\n",
            "Row(sales_channel='Online', item_type='Vegetables', total_revenue=Decimal('1027580.1875'), total_units_sold=6670)\n",
            "Row(sales_channel='Offline', item_type='Baby Food', total_revenue=Decimal('3050596.0625'), total_units_sold=11950)\n",
            "Row(sales_channel='Offline', item_type='Beverages', total_revenue=Decimal('535757.9375'), total_units_sold=11291)\n",
            "Row(sales_channel='Offline', item_type='Cereal', total_revenue=Decimal('2090323.42578125'), total_units_sold=10162)\n",
            "Row(sales_channel='Offline', item_type='Clothes', total_revenue=Decimal('2994162.75'), total_units_sold=27399)\n",
            "Row(sales_channel='Offline', item_type='Cosmetics', total_revenue=Decimal('4467309.5'), total_units_sold=10218)\n",
            "Row(sales_channel='Offline', item_type='Fruits', total_revenue=Decimal('283865.2509765625'), total_units_sold=30425)\n",
            "Row(sales_channel='Offline', item_type='Household', total_revenue=Decimal('26292414.8125'), total_units_sold=39344)\n",
            "Row(sales_channel='Offline', item_type='Meat', total_revenue=Decimal('5313704.65625'), total_units_sold=12595)\n",
            "Row(sales_channel='Offline', item_type='Office Supplies', total_revenue=Decimal('14039436.5'), total_units_sold=21559)\n",
            "Row(sales_channel='Offline', item_type='Personal Care', total_revenue=Decimal('886688.765625'), total_units_sold=10849)\n",
            "Row(sales_channel='Offline', item_type='Vegetables', total_revenue=Decimal('107533.8828125'), total_units_sold=698)\n"
          ]
        }
      ]
    }
  ]
}